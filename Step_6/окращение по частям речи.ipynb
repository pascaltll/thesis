{
 "cells": [
  {
   "cell_type": "code",
   "execution_count": 1,
   "id": "fcb7258e",
   "metadata": {},
   "outputs": [
    {
     "name": "stdout",
     "output_type": "stream",
     "text": [
      "\u001b[01;34m../dataset\u001b[00m\r\n",
      "├── \u001b[01;34men_espanol\u001b[00m\r\n",
      "│   ├── docx2txt.py\r\n",
      "│   ├── Второй_жанр_исходная.txt\r\n",
      "│   └── Первый_жанр_исходная.txt\r\n",
      "├── Второй_жанр_исходная.txt\r\n",
      "├── Первый_жанр_исходная.txt\r\n",
      "├── \u001b[01;34mСокращение по частям речи\u001b[00m\r\n",
      "│   ├── 1.Первый жанр исходная выборка.txt\r\n",
      "│   ├── 2.Первый жанр без клауз, включающих наречия.txt\r\n",
      "│   ├── 3.Первый жанр без клауз, включающих глаголы.txt\r\n",
      "│   ├── 4. Первый жанр без клауз, включающих глаголы и наречия.txt\r\n",
      "│   ├── Без прилагательных второй жанр.txt\r\n",
      "│   ├── Без прилагательных первый жанр.txt\r\n",
      "│   └── Случайные выборки.txt\r\n",
      "└── \u001b[01;34mсокращение по частотности\u001b[00m\r\n",
      "    ├── 1а_ без сокращений.txt\r\n",
      "    ├── 1б_Изъяты лексемы с частотой выше 100.txt\r\n",
      "    ├── 1в_Изъяты лексемы с частотой выше 49.txt\r\n",
      "    ├── 1г_Изъяты лексемы с частотой выше 29.txt\r\n",
      "    ├── 1д_Изъяты лексемы с частотой выше 9.txt\r\n",
      "    ├── 2а_ без сокращений.txt\r\n",
      "    ├── 2б_Изъяты лексемы с частотой выше 100.txt\r\n",
      "    ├── 2в_Изъяты лексемы с частотой выше 49.txt\r\n",
      "    ├── 2г_Изъяты лексемы с частотой выше 29.txt\r\n",
      "    └── 2д_Изъяты лексемы с частотой выше 9.txt\r\n",
      "\r\n",
      "3 directories, 22 files\r\n"
     ]
    }
   ],
   "source": [
    "!tree ../dataset"
   ]
  },
  {
   "cell_type": "code",
   "execution_count": 2,
   "id": "7c241a94",
   "metadata": {},
   "outputs": [
    {
     "name": "stderr",
     "output_type": "stream",
     "text": [
      "/workspace/notebooks/Carlos/fine_tunig_project/mi_entorno/lib/python3.8/site-packages/tqdm/auto.py:22: TqdmWarning: IProgress not found. Please update jupyter and ipywidgets. See https://ipywidgets.readthedocs.io/en/stable/user_install.html\n",
      "  from .autonotebook import tqdm as notebook_tqdm\n",
      "2025-03-24 12:55:18.268615: I tensorflow/core/platform/cpu_feature_guard.cc:182] This TensorFlow binary is optimized to use available CPU instructions in performance-critical operations.\n",
      "To enable the following instructions: AVX2 FMA, in other operations, rebuild TensorFlow with the appropriate compiler flags.\n",
      "[nltk_data] Downloading package punkt to /root/nltk_data...\n",
      "[nltk_data]   Package punkt is already up-to-date!\n"
     ]
    }
   ],
   "source": [
    "#├── Сокращение по частям речи ***\n",
    "#│   ├── 1.Первый жанр исходная выборка.txt\n",
    "#│   ├── 2.Первый жанр без клауз, включающих наречия.txt\n",
    "#│   ├── 3.Первый жанр без клауз, включающих глаголы.txt\n",
    "#│   ├── 4. Первый жанр без клауз, включающих глаголы и наречия.txt\n",
    "#│   ├── Без прилагательных второй жанр.txt\n",
    "#│   ├── Без прилагательных первый жанр.txt\n",
    "#│   └── Случайные выборки.txt\n",
    "#└── сокращение по частотности \n",
    "#    ├── 1а_ без сокращений.txt\n",
    "#    ├── 1б_Изъяты лексемы с частотой выше 100.txt\n",
    "#    ├── 1в_Изъяты лексемы с частотой выше 49.txt\n",
    "#    ├── 1г_Изъяты лексемы с частотой выше 29.txt\n",
    "#    ├── 1д_Изъяты лексемы с частотой выше 9.txt\n",
    "#    ├── 2а_ без сокращений.txt\n",
    "#    ├── 2б_Изъяты лексемы с частотой выше 100.txt\n",
    "#    ├── 2в_Изъяты лексемы с частотой выше 49.txt\n",
    "#    ├── 2г_Изъяты лексемы с частотой выше 29.txt\n",
    "#    └── 2д_Изъяты лексемы с частотой выше 9.txt\n",
    "\n",
    "#moditifcacion para PARTES\n",
    "import re\n",
    "import razdel\n",
    "import pandas as pd\n",
    "from sklearn.model_selection import train_test_split\n",
    "import torch\n",
    "from torch.utils.data import Dataset, DataLoader\n",
    "from transformers import BertTokenizer\n",
    "from isanlp.pipeline_common import PipelineCommon\n",
    "from torch.utils.data import DataLoader\n",
    "from transformers import BertTokenizer, BertForSequenceClassification, AdamW\n",
    "from tqdm import tqdm\n",
    "import gc\n",
    "from sklearn.metrics import precision_score, recall_score, f1_score, confusion_matrix, classification_report\n",
    "import matplotlib.pyplot as plt\n",
    "import seaborn as sns\n",
    "import numpy as np\n",
    "from razdel import sentenize\n",
    "import nltk\n",
    "from sklearn.feature_extraction.text import CountVectorizer\n",
    "nltk.download('punkt')\n",
    "\n",
    "\n",
    "def cargar_datos(archivo, etiqueta):\n",
    "    with open(archivo, 'r', encoding='utf-8') as f:\n",
    "        textos = f.readlines()\n",
    "    return [(texto.strip(), etiqueta) for texto in textos]\n",
    "\n",
    "def tokenizar_fuction(texto):\n",
    "    \"\"\"Tokeniza el texto eliminando puntuación y convirtiendo a minúsculas.\"\"\"\n",
    "    texto_preprocesado = re.sub(r'[^\\w\\s]', '', texto.lower())\n",
    "    tokens = nltk.word_tokenize(texto_preprocesado)\n",
    "    return tokens\n",
    "\n",
    "def calcular_similitud_mayoria_optimizado(textos1, textos2, threshold):\n",
    "    \"\"\"\n",
    "        Calcula similitudes entre dos listas de textos usando GPU.\n",
    "        Args:\n",
    "            textos1: Lista de textos (original_datos_procesados).\n",
    "            textos2: Lista de textos (train_data).\n",
    "        Returns:\n",
    "            Matriz booleana [len(textos1), len(textos2)] indicando similitudes.\n",
    "    \"\"\"\n",
    "    device = torch.device(\"cuda\" if torch.cuda.is_available() else \"cpu\")\n",
    "    print(f\"Usando dispositivo: {device}\")\n",
    "\n",
    "    # Preprocesar todos los textos en batch\n",
    "    textos1_preprocesados = [' '.join(tokenizar_fuction(t)) for t in textos1]\n",
    "    textos2_preprocesados = [' '.join(tokenizar_fuction(t)) for t in textos2]\n",
    "\n",
    "    # Crear representación binaria de tokens\n",
    "    vectorizer = CountVectorizer(binary=True, tokenizer=nltk.word_tokenize)\n",
    "    vectorizer.fit(textos1_preprocesados + textos2_preprocesados)\n",
    "\n",
    "    # Convertir a matrices de tokens\n",
    "    matriz_tokens1 = vectorizer.transform(textos1_preprocesados).toarray()\n",
    "    matriz_tokens2 = vectorizer.transform(textos2_preprocesados).toarray()\n",
    "\n",
    "    # Mover a GPU\n",
    "    matriz_tokens1 = torch.from_numpy(matriz_tokens1).to(device)\n",
    "    matriz_tokens2 = torch.from_numpy(matriz_tokens2).to(device)\n",
    "\n",
    "     # Calcular intersecciones\n",
    "    interseccion = torch.matmul(matriz_tokens1.float(), matriz_tokens2.T.float())\n",
    "\n",
    "    # Tamaños de los conjuntos de tokens\n",
    "    tamano_tokens1 = matriz_tokens1.sum(dim=1).unsqueeze(1)\n",
    "    tamano_tokens2 = matriz_tokens2.sum(dim=1).unsqueeze(0)\n",
    "\n",
    "    # Evitar división por cero\n",
    "    tamano_tokens1 = tamano_tokens1.clamp(min=1)\n",
    "    tamano_tokens2 = tamano_tokens2.clamp(min=1)\n",
    "\n",
    "     # Calcular proporciones\n",
    "    prop_1_en_2 = interseccion / tamano_tokens2\n",
    "    prop_2_en_1 = interseccion / tamano_tokens1\n",
    "\n",
    "    similitud = (prop_1_en_2 > threshold) | (prop_2_en_1 > threshold)\n",
    "\n",
    "\n",
    "\n",
    "\n",
    "\n",
    "    return similitud\n",
    "\n",
    "class DataLoader_raw:\n",
    "    def __init__(self, path1, path2):\n",
    "        self.path1 = path1\n",
    "        self.path2 = path2\n",
    "        self.path_original1 = '../dataset/Первый_жанр_исходная.txt'\n",
    "        self.path_original2 = '../dataset/Второй_жанр_исходная.txt'    \n",
    "    \n",
    "    def __call__(self):\n",
    "        datos_genero1 = cargar_datos(self.path1, 0)\n",
    "        datos_genero2 = cargar_datos(self.path2, 1)\n",
    "        datos = datos_genero1 + datos_genero2\n",
    "        \n",
    "        datos_original1 = cargar_datos(self.path_original1, 0)\n",
    "        datos_original2 = cargar_datos(self.path_original2, 1)\n",
    "        datos_originales = datos_original1 + datos_original2\n",
    "        \n",
    "        return {\n",
    "            'datos_raw': datos,\n",
    "            'original_datos_raw': datos_originales\n",
    "        }\n",
    "\n",
    "class SentenceSplitterAndCleaner:\n",
    "    def __init__(self, tokenizer, min_length_threshold=6):\n",
    "        \"\"\"Inicializa el procesador con un tokenizador y un umbral de longitud mínima.\"\"\"\n",
    "        self.tokenizer = tokenizer\n",
    "        self.min_length_threshold = min_length_threshold\n",
    "    \n",
    "    def _clean_and_split_text(self, texto):\n",
    "        \"\"\"\n",
    "        Limpia y divide un texto en oraciones procesadas.\n",
    "        \n",
    "        Args:\n",
    "            texto (str): Texto crudo a procesar.\n",
    "        \n",
    "        Returns:\n",
    "            list: Lista de oraciones limpias.\n",
    "        \"\"\"\n",
    "        # Paso 1: Marcar puntos para evitar fusiones no deseadas\n",
    "        texto_limpio = re.sub(r'\\.,', '. Ok999999999 ,', texto)  # Caso 1: Punto seguido de coma\n",
    "        texto_limpio = re.sub(r'\\.;', '. Ok999999999 ', texto_limpio)  # Caso 2: Punto seguido de punto y coma\n",
    "        texto_limpio = re.sub(r'\\. ([a-zа-я])', r'. Ok999999999 \\1', texto_limpio)  # Caso 3: Punto seguido de minúscula\n",
    "        texto_limpio = re.sub(r'(\\w)([А-Я])', r'\\1. \\2', texto_limpio)  # Caso 4: Minúscula seguida de mayúscula\n",
    "        \n",
    "        #creo que hay que agregar una nueva condivion  дл.,0 \n",
    "        #\", 2-3 см шир.\",0 \n",
    "        #\", 1 см шир.\",0 si hay un punto uego numeros quitar el punto\n",
    "        \n",
    "        # Paso 2: Eliminar corchetes y dividir en oraciones\n",
    "        texto_sin_corchetes = re.sub(r'\\[.*?\\]', '', texto_limpio).strip()\n",
    "        oraciones = [oracion.text for oracion in sentenize(texto_sin_corchetes)]\n",
    "        \n",
    "        # Paso 3: Restaurar espacios y limpiar marcadores temporales\n",
    "        oraciones_limpias = [re.sub(r'\\s*Ok999999999', ' ', oracion).strip() for oracion in oraciones]\n",
    "        \n",
    "        return oraciones_limpias\n",
    "    \n",
    "    def _process_sentences(self, datos, target_list):\n",
    "        \"\"\"\n",
    "        Procesa un conjunto de datos y agrega oraciones válidas a la lista objetivo.\n",
    "        \n",
    "        Args:\n",
    "            datos (list): Lista de tuplas (texto, etiqueta).\n",
    "            target_list (list): Lista donde se almacenarán las oraciones procesadas.\n",
    "        \"\"\"\n",
    "        for texto, etiqueta in datos:\n",
    "            oraciones = self._clean_and_split_text(texto)\n",
    "            for oracion in oraciones:\n",
    "                # Filtrar oraciones cortas basadas en el número de tokens\n",
    "                if len(self.tokenizer.encode(oracion, truncation=False)) >= self.min_length_threshold:\n",
    "                    target_list.append((oracion, etiqueta))\n",
    "    \n",
    "    def __call__(self, data_raw, original_data_raw):\n",
    "        \"\"\"\n",
    "        Procesa los datos crudos y originales, devolviendo dos conjuntos limpios.\n",
    "        \n",
    "        Args:\n",
    "            data_raw (list): Datos modificados crudos.\n",
    "            original_data_raw (list): Datos originales crudos.\n",
    "        \n",
    "        Returns:\n",
    "            dict: Diccionario con datos procesados y originales procesados.\n",
    "        \"\"\"\n",
    "        datos_procesados = []\n",
    "        original_datos_procesados = []\n",
    "        \n",
    "        # Procesar datos modificados\n",
    "        self._process_sentences(data_raw, datos_procesados)\n",
    "        \n",
    "        # Procesar datos originales\n",
    "        self._process_sentences(original_data_raw, original_datos_procesados)\n",
    "        \n",
    "        return {\n",
    "            'datos_procesados': datos_procesados,\n",
    "            'original_datos_procesados': original_datos_procesados\n",
    "        }\n",
    "    \n",
    "class DataProcessor:\n",
    "    #def __init__(self, tokenizer, max_length, random_state, test_size=0.2):\n",
    "    def __init__(self,\n",
    "                 tokenizer,\n",
    "                 max_length,\n",
    "                 random_state,\n",
    "                 test_size=0.2,\n",
    "                 name='сокращение по частотности',\n",
    "                 threshold = 0.5\n",
    "                ):\n",
    "    \n",
    "        self.tokenizer = tokenizer\n",
    "        self.max_length = max_length\n",
    "        self.test_size = test_size\n",
    "        self.random_state = random_state\n",
    "        self.name = name\n",
    "        self.threshold = threshold\n",
    "    \n",
    "    def __call__(self, datos_procesados, original_datos_procesados):\n",
    "        #datos_procesados = data['datos_procesados']\n",
    "        df = pd.DataFrame(datos_procesados, columns=[\"text\", \"label\"])\n",
    "\n",
    "\n",
    "        train_data, test_data = train_test_split(df, test_size=self.test_size, random_state=self.random_state)\n",
    "        #generar un nuevo test data\n",
    "        print(\"test_data:\", len(test_data))\n",
    "        train_texts = train_data[\"text\"].tolist()\n",
    "        original_texts = [oracion for oracion, _ in original_datos_procesados]\n",
    "        original_labels = [etiqueta for _, etiqueta in original_datos_procesados]\n",
    "        \n",
    "        similitudes = calcular_similitud_mayoria_optimizado(original_texts,\n",
    "                                                            train_texts,\n",
    "                                                            self.threshold)  # [len(original), len(train)]\n",
    "        \n",
    "        interseccion = similitudes.any(dim=1)  # True si hay intersección con algún train_text\n",
    "        mask = ~interseccion.cpu().numpy()\n",
    "        nuevo_test = [(texto, etiqueta) for texto, etiqueta, keep in zip(original_texts, original_labels, mask) if keep]\n",
    "        print(\"Tamaño de nuevo_test:\", len(nuevo_test))\n",
    "         \n",
    "        if self.random_state == 0:\n",
    "            train_data.to_csv(f'Сокращение по частям речи/train_{self.name}', index=False)\n",
    "            print(f\"train_{self.name}.csv\")\n",
    "            nuevo_test_df = pd.DataFrame(nuevo_test, columns=[\"text\", \"label\"])\n",
    "            \n",
    "            nuevo_test_df.to_csv(f'Сокращение по частям речи/test_{self.name}', index=False)\n",
    "            print(f\"test_{self.name}.csv\")\n",
    "        \n",
    "        #no se a niandido el nuevo test\n",
    "        # Tokenizar entrenamiento\n",
    "        train_encodings = self.tokenizer(\n",
    "            train_data[\"text\"].tolist(),\n",
    "            padding=\"max_length\",\n",
    "            truncation=True,\n",
    "            max_length=self.max_length,\n",
    "            return_tensors=\"pt\"\n",
    "        )\n",
    "        train_labels = torch.tensor(train_data[\"label\"].values)\n",
    "        # Tokenizar prueba\n",
    "        test_encodings = self.tokenizer(\n",
    "            [texto for texto, _ in nuevo_test],\n",
    "            padding=\"max_length\",\n",
    "            truncation=True,\n",
    "            max_length=self.max_length,\n",
    "            return_tensors=\"pt\"\n",
    "        )\n",
    "        test_labels = torch.tensor([etiqueta for _, etiqueta in nuevo_test])\n",
    "        return {\n",
    "            'train_encodings': train_encodings,\n",
    "            'train_labels': train_labels,\n",
    "            'test_encodings': test_encodings,\n",
    "            'test_labels': test_labels\n",
    "        }  \n",
    "    \n",
    "    \n",
    "class TextDataset(Dataset):\n",
    "    def __init__(self, encodings, labels):\n",
    "        self.encodings = encodings\n",
    "        self.labels = labels\n",
    "\n",
    "    def __len__(self):\n",
    "        return len(self.labels)\n",
    "\n",
    "    def __getitem__(self, idx):\n",
    "        item = {key: val[idx] for key, val in self.encodings.items()}\n",
    "        item[\"labels\"] = self.labels[idx]\n",
    "        return item\n",
    "\n",
    "class DatasetCreator:\n",
    "    def __init__(self, batch_size=8):\n",
    "        self.batch_size = batch_size\n",
    "    \n",
    "    def __call__(self, train_encodings, train_labels, test_encodings, test_labels):\n",
    "        train_dataset = TextDataset(train_encodings, train_labels)\n",
    "        test_dataset = TextDataset(test_encodings, test_labels)\n",
    "        train_loader = DataLoader(train_dataset, batch_size=self.batch_size, shuffle=True)\n",
    "        test_loader = DataLoader(test_dataset, batch_size=self.batch_size, shuffle=False)\n",
    "        return {'train_loader': train_loader, 'test_loader': test_loader}\n",
    "    \n",
    "def train_model(model, train_loader, optimizer, loss_fn, device, epochs=3):\n",
    "    for epoch in range(epochs):\n",
    "        model.train()\n",
    "        loop = tqdm(train_loader, desc=f'Epoch {epoch + 1}/{epochs}')\n",
    "        for batch in loop:\n",
    "            optimizer.zero_grad()\n",
    "            input_ids = batch['input_ids'].to(device)\n",
    "            attention_mask = batch['attention_mask'].to(device)\n",
    "            labels = batch['labels'].to(device)\n",
    "            outputs = model(input_ids, attention_mask=attention_mask)\n",
    "            loss = loss_fn(outputs.logits, labels)\n",
    "            loss.backward()\n",
    "            optimizer.step()\n",
    "            loop.set_postfix(loss=loss.item())\n",
    "        torch.cuda.empty_cache()#libera memroria de la gpu\n",
    "        gc.collect()#limpa la cpu\n",
    "\n",
    "def evaluate_model(model, test_loader, device):\n",
    "    model.eval()\n",
    "    all_preds = []\n",
    "    all_labels = []\n",
    "    with torch.no_grad():\n",
    "        for batch in test_loader:\n",
    "            input_ids = batch['input_ids'].to(device)\n",
    "            attention_mask = batch['attention_mask'].to(device)\n",
    "            labels = batch['labels'].to(device)\n",
    "            outputs = model(input_ids, attention_mask=attention_mask)\n",
    "            predictions = torch.argmax(outputs.logits, dim=1)\n",
    "            all_preds.extend(predictions.cpu().numpy())\n",
    "            all_labels.extend(labels.cpu().numpy())\n",
    "    accuracy = sum(p == l for p, l in zip(all_preds, all_labels)) / len(all_labels)\n",
    "    report = classification_report(all_labels, all_preds, target_names=[\"Género 1\", \"Género 2\"])\n",
    "    conf_matrix = confusion_matrix(all_labels, all_preds)\n",
    "    return {\"accuracy\": accuracy, \"report\": report, \"conf_matrix\": conf_matrix}\n",
    "\n",
    "def display_results(results):\n",
    "    print(f'Precisión en el conjunto de prueba: {results[\"accuracy\"]:.2%}')\n",
    "    print(\"\\nReporte de clasificación:\\n\", results[\"report\"])\n",
    "    plt.figure(figsize=(6, 4))\n",
    "    sns.heatmap(results[\"conf_matrix\"], annot=True, fmt='d', cmap='Blues', \n",
    "                xticklabels=[\"Género 1\", \"Género 2\"], \n",
    "                yticklabels=[\"Género 1\", \"Género 2\"])\n",
    "    plt.title('Matriz de Confusión')\n",
    "    plt.xlabel('Predicción')\n",
    "    plt.ylabel('Real')\n",
    "    plt.show()"
   ]
  },
  {
   "cell_type": "code",
   "execution_count": 3,
   "id": "7bd89e81",
   "metadata": {},
   "outputs": [
    {
     "name": "stderr",
     "output_type": "stream",
     "text": [
      "/workspace/notebooks/Carlos/fine_tunig_project/mi_entorno/lib/python3.8/site-packages/huggingface_hub/file_download.py:795: FutureWarning: `resume_download` is deprecated and will be removed in version 1.0.0. Downloads always resume when possible. If you want to force a new download, use `force_download=True`.\n",
      "  warnings.warn(\n"
     ]
    },
    {
     "name": "stdout",
     "output_type": "stream",
     "text": [
      "Repetición con semilla 0\n",
      "test_data: 207\n",
      "Usando dispositivo: cuda\n"
     ]
    },
    {
     "name": "stderr",
     "output_type": "stream",
     "text": [
      "/workspace/notebooks/Carlos/fine_tunig_project/mi_entorno/lib/python3.8/site-packages/sklearn/feature_extraction/text.py:516: UserWarning: The parameter 'token_pattern' will not be used since 'tokenizer' is not None'\n",
      "  warnings.warn(\n"
     ]
    },
    {
     "name": "stdout",
     "output_type": "stream",
     "text": [
      "Tamaño de nuevo_test: 210\n",
      "train_Без прилагательных.csv\n",
      "test_Без прилагательных.csv\n"
     ]
    },
    {
     "name": "stderr",
     "output_type": "stream",
     "text": [
      "/workspace/notebooks/Carlos/fine_tunig_project/mi_entorno/lib/python3.8/site-packages/huggingface_hub/file_download.py:795: FutureWarning: `resume_download` is deprecated and will be removed in version 1.0.0. Downloads always resume when possible. If you want to force a new download, use `force_download=True`.\n",
      "  warnings.warn(\n",
      "Some weights of the model checkpoint at DeepPavlov/rubert-base-cased were not used when initializing BertForSequenceClassification: ['cls.seq_relationship.bias', 'cls.predictions.decoder.weight', 'cls.predictions.bias', 'cls.predictions.transform.dense.bias', 'cls.predictions.transform.LayerNorm.weight', 'cls.predictions.transform.dense.weight', 'cls.seq_relationship.weight', 'cls.predictions.transform.LayerNorm.bias', 'cls.predictions.decoder.bias']\n",
      "- This IS expected if you are initializing BertForSequenceClassification from the checkpoint of a model trained on another task or with another architecture (e.g. initializing a BertForSequenceClassification model from a BertForPreTraining model).\n",
      "- This IS NOT expected if you are initializing BertForSequenceClassification from the checkpoint of a model that you expect to be exactly identical (initializing a BertForSequenceClassification model from a BertForSequenceClassification model).\n",
      "Some weights of BertForSequenceClassification were not initialized from the model checkpoint at DeepPavlov/rubert-base-cased and are newly initialized: ['classifier.bias', 'classifier.weight']\n",
      "You should probably TRAIN this model on a down-stream task to be able to use it for predictions and inference.\n",
      "/workspace/notebooks/Carlos/fine_tunig_project/mi_entorno/lib/python3.8/site-packages/transformers/optimization.py:411: FutureWarning: This implementation of AdamW is deprecated and will be removed in a future version. Use the PyTorch implementation torch.optim.AdamW instead, or set `no_deprecation_warning=True` to disable this warning\n",
      "  warnings.warn(\n",
      "Epoch 1/3: 100%|██████████| 104/104 [00:08<00:00, 12.43it/s, loss=0.0611] \n",
      "Epoch 2/3: 100%|██████████| 104/104 [00:08<00:00, 11.87it/s, loss=0.00614]\n",
      "Epoch 3/3: 100%|██████████| 104/104 [00:07<00:00, 13.67it/s, loss=0.002]  \n"
     ]
    },
    {
     "name": "stdout",
     "output_type": "stream",
     "text": [
      "Accuracy in 0 seed: 0.9905\n",
      "Repetición con semilla 1\n",
      "test_data: 207\n",
      "Usando dispositivo: cuda\n"
     ]
    },
    {
     "name": "stderr",
     "output_type": "stream",
     "text": [
      "/workspace/notebooks/Carlos/fine_tunig_project/mi_entorno/lib/python3.8/site-packages/sklearn/feature_extraction/text.py:516: UserWarning: The parameter 'token_pattern' will not be used since 'tokenizer' is not None'\n",
      "  warnings.warn(\n"
     ]
    },
    {
     "name": "stdout",
     "output_type": "stream",
     "text": [
      "Tamaño de nuevo_test: 196\n"
     ]
    },
    {
     "name": "stderr",
     "output_type": "stream",
     "text": [
      "/workspace/notebooks/Carlos/fine_tunig_project/mi_entorno/lib/python3.8/site-packages/huggingface_hub/file_download.py:795: FutureWarning: `resume_download` is deprecated and will be removed in version 1.0.0. Downloads always resume when possible. If you want to force a new download, use `force_download=True`.\n",
      "  warnings.warn(\n",
      "Some weights of the model checkpoint at DeepPavlov/rubert-base-cased were not used when initializing BertForSequenceClassification: ['cls.seq_relationship.bias', 'cls.predictions.decoder.weight', 'cls.predictions.bias', 'cls.predictions.transform.dense.bias', 'cls.predictions.transform.LayerNorm.weight', 'cls.predictions.transform.dense.weight', 'cls.seq_relationship.weight', 'cls.predictions.transform.LayerNorm.bias', 'cls.predictions.decoder.bias']\n",
      "- This IS expected if you are initializing BertForSequenceClassification from the checkpoint of a model trained on another task or with another architecture (e.g. initializing a BertForSequenceClassification model from a BertForPreTraining model).\n",
      "- This IS NOT expected if you are initializing BertForSequenceClassification from the checkpoint of a model that you expect to be exactly identical (initializing a BertForSequenceClassification model from a BertForSequenceClassification model).\n",
      "Some weights of BertForSequenceClassification were not initialized from the model checkpoint at DeepPavlov/rubert-base-cased and are newly initialized: ['classifier.bias', 'classifier.weight']\n",
      "You should probably TRAIN this model on a down-stream task to be able to use it for predictions and inference.\n",
      "/workspace/notebooks/Carlos/fine_tunig_project/mi_entorno/lib/python3.8/site-packages/transformers/optimization.py:411: FutureWarning: This implementation of AdamW is deprecated and will be removed in a future version. Use the PyTorch implementation torch.optim.AdamW instead, or set `no_deprecation_warning=True` to disable this warning\n",
      "  warnings.warn(\n",
      "Epoch 1/3: 100%|██████████| 104/104 [00:08<00:00, 12.21it/s, loss=0.273]  \n",
      "Epoch 2/3: 100%|██████████| 104/104 [00:07<00:00, 13.10it/s, loss=0.0127]\n",
      "Epoch 3/3: 100%|██████████| 104/104 [00:08<00:00, 12.98it/s, loss=0.00185]\n"
     ]
    },
    {
     "name": "stdout",
     "output_type": "stream",
     "text": [
      "Accuracy in 1 seed: 0.9847\n",
      "Repetición con semilla 2\n",
      "test_data: 207\n",
      "Usando dispositivo: cuda\n"
     ]
    },
    {
     "name": "stderr",
     "output_type": "stream",
     "text": [
      "/workspace/notebooks/Carlos/fine_tunig_project/mi_entorno/lib/python3.8/site-packages/sklearn/feature_extraction/text.py:516: UserWarning: The parameter 'token_pattern' will not be used since 'tokenizer' is not None'\n",
      "  warnings.warn(\n"
     ]
    },
    {
     "name": "stdout",
     "output_type": "stream",
     "text": [
      "Tamaño de nuevo_test: 192\n"
     ]
    },
    {
     "name": "stderr",
     "output_type": "stream",
     "text": [
      "/workspace/notebooks/Carlos/fine_tunig_project/mi_entorno/lib/python3.8/site-packages/huggingface_hub/file_download.py:795: FutureWarning: `resume_download` is deprecated and will be removed in version 1.0.0. Downloads always resume when possible. If you want to force a new download, use `force_download=True`.\n",
      "  warnings.warn(\n",
      "Some weights of the model checkpoint at DeepPavlov/rubert-base-cased were not used when initializing BertForSequenceClassification: ['cls.seq_relationship.bias', 'cls.predictions.decoder.weight', 'cls.predictions.bias', 'cls.predictions.transform.dense.bias', 'cls.predictions.transform.LayerNorm.weight', 'cls.predictions.transform.dense.weight', 'cls.seq_relationship.weight', 'cls.predictions.transform.LayerNorm.bias', 'cls.predictions.decoder.bias']\n",
      "- This IS expected if you are initializing BertForSequenceClassification from the checkpoint of a model trained on another task or with another architecture (e.g. initializing a BertForSequenceClassification model from a BertForPreTraining model).\n",
      "- This IS NOT expected if you are initializing BertForSequenceClassification from the checkpoint of a model that you expect to be exactly identical (initializing a BertForSequenceClassification model from a BertForSequenceClassification model).\n",
      "Some weights of BertForSequenceClassification were not initialized from the model checkpoint at DeepPavlov/rubert-base-cased and are newly initialized: ['classifier.bias', 'classifier.weight']\n",
      "You should probably TRAIN this model on a down-stream task to be able to use it for predictions and inference.\n",
      "/workspace/notebooks/Carlos/fine_tunig_project/mi_entorno/lib/python3.8/site-packages/transformers/optimization.py:411: FutureWarning: This implementation of AdamW is deprecated and will be removed in a future version. Use the PyTorch implementation torch.optim.AdamW instead, or set `no_deprecation_warning=True` to disable this warning\n",
      "  warnings.warn(\n",
      "Epoch 1/3: 100%|██████████| 104/104 [00:08<00:00, 12.84it/s, loss=0.00646]\n",
      "Epoch 2/3: 100%|██████████| 104/104 [00:08<00:00, 12.48it/s, loss=0.00221]\n",
      "Epoch 3/3: 100%|██████████| 104/104 [00:07<00:00, 13.44it/s, loss=0.00109] \n"
     ]
    },
    {
     "name": "stdout",
     "output_type": "stream",
     "text": [
      "Accuracy in 2 seed: 1.0000\n",
      "Repetición con semilla 3\n",
      "test_data: 207\n",
      "Usando dispositivo: cuda\n"
     ]
    },
    {
     "name": "stderr",
     "output_type": "stream",
     "text": [
      "/workspace/notebooks/Carlos/fine_tunig_project/mi_entorno/lib/python3.8/site-packages/sklearn/feature_extraction/text.py:516: UserWarning: The parameter 'token_pattern' will not be used since 'tokenizer' is not None'\n",
      "  warnings.warn(\n"
     ]
    },
    {
     "name": "stdout",
     "output_type": "stream",
     "text": [
      "Tamaño de nuevo_test: 178\n"
     ]
    },
    {
     "name": "stderr",
     "output_type": "stream",
     "text": [
      "/workspace/notebooks/Carlos/fine_tunig_project/mi_entorno/lib/python3.8/site-packages/huggingface_hub/file_download.py:795: FutureWarning: `resume_download` is deprecated and will be removed in version 1.0.0. Downloads always resume when possible. If you want to force a new download, use `force_download=True`.\n",
      "  warnings.warn(\n",
      "Some weights of the model checkpoint at DeepPavlov/rubert-base-cased were not used when initializing BertForSequenceClassification: ['cls.seq_relationship.bias', 'cls.predictions.decoder.weight', 'cls.predictions.bias', 'cls.predictions.transform.dense.bias', 'cls.predictions.transform.LayerNorm.weight', 'cls.predictions.transform.dense.weight', 'cls.seq_relationship.weight', 'cls.predictions.transform.LayerNorm.bias', 'cls.predictions.decoder.bias']\n",
      "- This IS expected if you are initializing BertForSequenceClassification from the checkpoint of a model trained on another task or with another architecture (e.g. initializing a BertForSequenceClassification model from a BertForPreTraining model).\n",
      "- This IS NOT expected if you are initializing BertForSequenceClassification from the checkpoint of a model that you expect to be exactly identical (initializing a BertForSequenceClassification model from a BertForSequenceClassification model).\n",
      "Some weights of BertForSequenceClassification were not initialized from the model checkpoint at DeepPavlov/rubert-base-cased and are newly initialized: ['classifier.bias', 'classifier.weight']\n",
      "You should probably TRAIN this model on a down-stream task to be able to use it for predictions and inference.\n",
      "/workspace/notebooks/Carlos/fine_tunig_project/mi_entorno/lib/python3.8/site-packages/transformers/optimization.py:411: FutureWarning: This implementation of AdamW is deprecated and will be removed in a future version. Use the PyTorch implementation torch.optim.AdamW instead, or set `no_deprecation_warning=True` to disable this warning\n",
      "  warnings.warn(\n",
      "Epoch 1/3: 100%|██████████| 104/104 [00:07<00:00, 13.49it/s, loss=0.0206]\n",
      "Epoch 2/3: 100%|██████████| 104/104 [00:07<00:00, 13.32it/s, loss=0.00391]\n",
      "Epoch 3/3: 100%|██████████| 104/104 [00:08<00:00, 11.98it/s, loss=0.00166]\n"
     ]
    },
    {
     "name": "stdout",
     "output_type": "stream",
     "text": [
      "Accuracy in 3 seed: 1.0000\n",
      "Repetición con semilla 4\n",
      "test_data: 207\n",
      "Usando dispositivo: cuda\n"
     ]
    },
    {
     "name": "stderr",
     "output_type": "stream",
     "text": [
      "/workspace/notebooks/Carlos/fine_tunig_project/mi_entorno/lib/python3.8/site-packages/sklearn/feature_extraction/text.py:516: UserWarning: The parameter 'token_pattern' will not be used since 'tokenizer' is not None'\n",
      "  warnings.warn(\n"
     ]
    },
    {
     "name": "stdout",
     "output_type": "stream",
     "text": [
      "Tamaño de nuevo_test: 191\n"
     ]
    },
    {
     "name": "stderr",
     "output_type": "stream",
     "text": [
      "/workspace/notebooks/Carlos/fine_tunig_project/mi_entorno/lib/python3.8/site-packages/huggingface_hub/file_download.py:795: FutureWarning: `resume_download` is deprecated and will be removed in version 1.0.0. Downloads always resume when possible. If you want to force a new download, use `force_download=True`.\n",
      "  warnings.warn(\n",
      "Some weights of the model checkpoint at DeepPavlov/rubert-base-cased were not used when initializing BertForSequenceClassification: ['cls.seq_relationship.bias', 'cls.predictions.decoder.weight', 'cls.predictions.bias', 'cls.predictions.transform.dense.bias', 'cls.predictions.transform.LayerNorm.weight', 'cls.predictions.transform.dense.weight', 'cls.seq_relationship.weight', 'cls.predictions.transform.LayerNorm.bias', 'cls.predictions.decoder.bias']\n",
      "- This IS expected if you are initializing BertForSequenceClassification from the checkpoint of a model trained on another task or with another architecture (e.g. initializing a BertForSequenceClassification model from a BertForPreTraining model).\n",
      "- This IS NOT expected if you are initializing BertForSequenceClassification from the checkpoint of a model that you expect to be exactly identical (initializing a BertForSequenceClassification model from a BertForSequenceClassification model).\n",
      "Some weights of BertForSequenceClassification were not initialized from the model checkpoint at DeepPavlov/rubert-base-cased and are newly initialized: ['classifier.bias', 'classifier.weight']\n",
      "You should probably TRAIN this model on a down-stream task to be able to use it for predictions and inference.\n",
      "/workspace/notebooks/Carlos/fine_tunig_project/mi_entorno/lib/python3.8/site-packages/transformers/optimization.py:411: FutureWarning: This implementation of AdamW is deprecated and will be removed in a future version. Use the PyTorch implementation torch.optim.AdamW instead, or set `no_deprecation_warning=True` to disable this warning\n",
      "  warnings.warn(\n",
      "Epoch 1/3: 100%|██████████| 104/104 [00:09<00:00, 10.89it/s, loss=0.00837]\n",
      "Epoch 2/3: 100%|██████████| 104/104 [00:08<00:00, 12.58it/s, loss=0.00264]\n",
      "Epoch 3/3: 100%|██████████| 104/104 [00:07<00:00, 13.68it/s, loss=0.00294]\n"
     ]
    },
    {
     "name": "stdout",
     "output_type": "stream",
     "text": [
      "Accuracy in 4 seed: 0.9843\n",
      "Repetición con semilla 5\n",
      "test_data: 207\n",
      "Usando dispositivo: cuda\n"
     ]
    },
    {
     "name": "stderr",
     "output_type": "stream",
     "text": [
      "/workspace/notebooks/Carlos/fine_tunig_project/mi_entorno/lib/python3.8/site-packages/sklearn/feature_extraction/text.py:516: UserWarning: The parameter 'token_pattern' will not be used since 'tokenizer' is not None'\n",
      "  warnings.warn(\n"
     ]
    },
    {
     "name": "stdout",
     "output_type": "stream",
     "text": [
      "Tamaño de nuevo_test: 196\n"
     ]
    },
    {
     "name": "stderr",
     "output_type": "stream",
     "text": [
      "/workspace/notebooks/Carlos/fine_tunig_project/mi_entorno/lib/python3.8/site-packages/huggingface_hub/file_download.py:795: FutureWarning: `resume_download` is deprecated and will be removed in version 1.0.0. Downloads always resume when possible. If you want to force a new download, use `force_download=True`.\n",
      "  warnings.warn(\n",
      "Some weights of the model checkpoint at DeepPavlov/rubert-base-cased were not used when initializing BertForSequenceClassification: ['cls.seq_relationship.bias', 'cls.predictions.decoder.weight', 'cls.predictions.bias', 'cls.predictions.transform.dense.bias', 'cls.predictions.transform.LayerNorm.weight', 'cls.predictions.transform.dense.weight', 'cls.seq_relationship.weight', 'cls.predictions.transform.LayerNorm.bias', 'cls.predictions.decoder.bias']\n",
      "- This IS expected if you are initializing BertForSequenceClassification from the checkpoint of a model trained on another task or with another architecture (e.g. initializing a BertForSequenceClassification model from a BertForPreTraining model).\n",
      "- This IS NOT expected if you are initializing BertForSequenceClassification from the checkpoint of a model that you expect to be exactly identical (initializing a BertForSequenceClassification model from a BertForSequenceClassification model).\n",
      "Some weights of BertForSequenceClassification were not initialized from the model checkpoint at DeepPavlov/rubert-base-cased and are newly initialized: ['classifier.bias', 'classifier.weight']\n",
      "You should probably TRAIN this model on a down-stream task to be able to use it for predictions and inference.\n",
      "/workspace/notebooks/Carlos/fine_tunig_project/mi_entorno/lib/python3.8/site-packages/transformers/optimization.py:411: FutureWarning: This implementation of AdamW is deprecated and will be removed in a future version. Use the PyTorch implementation torch.optim.AdamW instead, or set `no_deprecation_warning=True` to disable this warning\n",
      "  warnings.warn(\n",
      "Epoch 1/3: 100%|██████████| 104/104 [00:07<00:00, 13.22it/s, loss=0.00779]\n",
      "Epoch 2/3: 100%|██████████| 104/104 [00:07<00:00, 13.58it/s, loss=0.00377]\n",
      "Epoch 3/3: 100%|██████████| 104/104 [00:07<00:00, 13.53it/s, loss=0.00134]\n"
     ]
    },
    {
     "name": "stdout",
     "output_type": "stream",
     "text": [
      "Accuracy in 5 seed: 1.0000\n",
      "\n",
      "Accuracy promedio después de 6 repeticiones: 0.9932 ± 0.0070\n"
     ]
    }
   ],
   "source": [
    "#├── Сокращение по частям речи \n",
    "#│   ├── 1.Первый жанр исходная выборка.txt\n",
    "#│   ├── 2.Первый жанр без клауз, включающих наречия.txt\n",
    "#│   ├── 3.Первый жанр без клауз, включающих глаголы.txt\n",
    "#│   ├── 4. Первый жанр без клауз, включающих глаголы и наречия.txt\n",
    "#│   ├── Без прилагательных второй жанр.txt ***\n",
    "#│   ├── Без прилагательных первый жанр.txt ***\n",
    "#│   └── Случайные выборки.txt\n",
    "\n",
    "\n",
    "device = torch.device(\"cuda\" if torch.cuda.is_available() else \"cpu\")\n",
    "tokenizer = BertTokenizer.from_pretrained('DeepPavlov/rubert-base-cased')\n",
    "max_length = 128\n",
    "#Longitud promedio de tokens: 27.77\n",
    "#Longitud máxima de tokens: 192\n",
    "#Longitud mínima de tokens: 2\n",
    "#falta ver la logitud real del nuevo dataset\n",
    "batch_size = 8\n",
    "epochs = 3\n",
    "num_repeats = 6\n",
    "seeds = list(range(num_repeats))\n",
    "\n",
    "\n",
    "accuracies = []\n",
    "for seed in seeds:\n",
    "    print(f\"Repetición con semilla {seed}\")\n",
    "    \n",
    "    # Instanciar DataProcessor con la semilla actual\n",
    "    #data_processor = DataProcessor(tokenizer, max_length, test_size=0.2, random_state=seed)\n",
    "    \n",
    "    # Crear el pipeline (ajusta según tu estructura)\n",
    "    ppl = PipelineCommon([\n",
    "        (DataLoader_raw('../dataset/Сокращение по частям речи/Без прилагательных первый жанр.txt',\n",
    "                        '../dataset/Сокращение по частям речи/Без прилагательных второй жанр.txt'), \n",
    "         [], \n",
    "         {'datos_raw': 'datos_raw',\n",
    "         'original_datos_raw': 'original_datos_raw'}),\n",
    "        (SentenceSplitterAndCleaner(tokenizer), \n",
    "         ['datos_raw','original_datos_raw'], \n",
    "         {'datos_procesados': 'datos_procesados',\n",
    "         'original_datos_procesados': 'original_datos_procesados'}),\n",
    "        (DataProcessor(tokenizer,\n",
    "                       max_length,\n",
    "                       seed,\n",
    "                       name = 'Без прилагательных',\n",
    "                       threshold = 0.5),  #217 - 195 -> aceptable\n",
    "        \n",
    "         ['datos_procesados','original_datos_procesados'], \n",
    "         {'train_encodings': 'train_encodings', 'train_labels': 'train_labels', \n",
    "          'test_encodings': 'test_encodings', 'test_labels': 'test_labels'}),\n",
    "        (DatasetCreator(batch_size=batch_size), \n",
    "         ['train_encodings', 'train_labels', 'test_encodings', 'test_labels'], \n",
    "         {'train_loader': 'train_loader', 'test_loader': 'test_loader'})\n",
    "    ])\n",
    "    \n",
    "    # Ejecutar el pipeline\n",
    "    result = ppl()\n",
    "    train_loader = result['train_loader']\n",
    "    test_loader = result['test_loader']\n",
    "    \n",
    "    # Configurar el modelo (reiniciarlo en cada repetición)\n",
    "    model = BertForSequenceClassification.from_pretrained('DeepPavlov/rubert-base-cased', num_labels=2)\n",
    "    model.to(device)\n",
    "    optimizer = AdamW(model.parameters(), lr=2e-5)\n",
    "    loss_fn = torch.nn.CrossEntropyLoss()\n",
    "    \n",
    "    # Entrenar el modelo (función train_model definida por ti)\n",
    "    train_model(model, train_loader, optimizer, loss_fn, device, epochs=epochs)\n",
    "    \n",
    "    # Evaluar el modelo (función evaluate_model definida por ti)\n",
    "    results = evaluate_model(model, test_loader, device)\n",
    "    accuracy = results['accuracy']  # Ajusta según la métrica que uses\n",
    "    accuracies.append(accuracy)\n",
    "    \n",
    "    print(f\"Accuracy in {seed} seed: {accuracy:.4f}\")\n",
    "\n",
    "# Calcular promedio y desviación estándar\n",
    "average_accuracy = np.mean(accuracies)\n",
    "std_accuracy = np.std(accuracies)\n",
    "print(f\"\\nAccuracy promedio después de {num_repeats} repeticiones: {average_accuracy:.4f} ± {std_accuracy:.4f}\")"
   ]
  },
  {
   "cell_type": "code",
   "execution_count": 4,
   "id": "6e8b576c",
   "metadata": {},
   "outputs": [
    {
     "name": "stdout",
     "output_type": "stream",
     "text": [
      "Repetición con semilla 0\n",
      "test_data: 220\n",
      "Usando dispositivo: cuda\n"
     ]
    },
    {
     "name": "stderr",
     "output_type": "stream",
     "text": [
      "/workspace/notebooks/Carlos/fine_tunig_project/mi_entorno/lib/python3.8/site-packages/sklearn/feature_extraction/text.py:516: UserWarning: The parameter 'token_pattern' will not be used since 'tokenizer' is not None'\n",
      "  warnings.warn(\n"
     ]
    },
    {
     "name": "stdout",
     "output_type": "stream",
     "text": [
      "Tamaño de nuevo_test: 174\n",
      "train_2.Первый жанр без клауз, включающих наречия.csv\n",
      "test_2.Первый жанр без клауз, включающих наречия.csv\n"
     ]
    },
    {
     "name": "stderr",
     "output_type": "stream",
     "text": [
      "/workspace/notebooks/Carlos/fine_tunig_project/mi_entorno/lib/python3.8/site-packages/huggingface_hub/file_download.py:795: FutureWarning: `resume_download` is deprecated and will be removed in version 1.0.0. Downloads always resume when possible. If you want to force a new download, use `force_download=True`.\n",
      "  warnings.warn(\n",
      "Some weights of the model checkpoint at DeepPavlov/rubert-base-cased were not used when initializing BertForSequenceClassification: ['cls.seq_relationship.bias', 'cls.predictions.decoder.weight', 'cls.predictions.bias', 'cls.predictions.transform.dense.bias', 'cls.predictions.transform.LayerNorm.weight', 'cls.predictions.transform.dense.weight', 'cls.seq_relationship.weight', 'cls.predictions.transform.LayerNorm.bias', 'cls.predictions.decoder.bias']\n",
      "- This IS expected if you are initializing BertForSequenceClassification from the checkpoint of a model trained on another task or with another architecture (e.g. initializing a BertForSequenceClassification model from a BertForPreTraining model).\n",
      "- This IS NOT expected if you are initializing BertForSequenceClassification from the checkpoint of a model that you expect to be exactly identical (initializing a BertForSequenceClassification model from a BertForSequenceClassification model).\n",
      "Some weights of BertForSequenceClassification were not initialized from the model checkpoint at DeepPavlov/rubert-base-cased and are newly initialized: ['classifier.bias', 'classifier.weight']\n",
      "You should probably TRAIN this model on a down-stream task to be able to use it for predictions and inference.\n",
      "/workspace/notebooks/Carlos/fine_tunig_project/mi_entorno/lib/python3.8/site-packages/transformers/optimization.py:411: FutureWarning: This implementation of AdamW is deprecated and will be removed in a future version. Use the PyTorch implementation torch.optim.AdamW instead, or set `no_deprecation_warning=True` to disable this warning\n",
      "  warnings.warn(\n",
      "Epoch 1/3: 100%|██████████| 110/110 [00:08<00:00, 12.89it/s, loss=0.0265] \n",
      "Epoch 2/3: 100%|██████████| 110/110 [00:08<00:00, 12.96it/s, loss=0.00194]\n",
      "Epoch 3/3: 100%|██████████| 110/110 [00:08<00:00, 13.25it/s, loss=0.000637]\n"
     ]
    },
    {
     "name": "stdout",
     "output_type": "stream",
     "text": [
      "Accuracy in 0 seed: 0.9943\n",
      "Repetición con semilla 1\n",
      "test_data: 220\n",
      "Usando dispositivo: cuda\n"
     ]
    },
    {
     "name": "stderr",
     "output_type": "stream",
     "text": [
      "/workspace/notebooks/Carlos/fine_tunig_project/mi_entorno/lib/python3.8/site-packages/sklearn/feature_extraction/text.py:516: UserWarning: The parameter 'token_pattern' will not be used since 'tokenizer' is not None'\n",
      "  warnings.warn(\n"
     ]
    },
    {
     "name": "stdout",
     "output_type": "stream",
     "text": [
      "Tamaño de nuevo_test: 170\n"
     ]
    },
    {
     "name": "stderr",
     "output_type": "stream",
     "text": [
      "/workspace/notebooks/Carlos/fine_tunig_project/mi_entorno/lib/python3.8/site-packages/huggingface_hub/file_download.py:795: FutureWarning: `resume_download` is deprecated and will be removed in version 1.0.0. Downloads always resume when possible. If you want to force a new download, use `force_download=True`.\n",
      "  warnings.warn(\n",
      "Some weights of the model checkpoint at DeepPavlov/rubert-base-cased were not used when initializing BertForSequenceClassification: ['cls.seq_relationship.bias', 'cls.predictions.decoder.weight', 'cls.predictions.bias', 'cls.predictions.transform.dense.bias', 'cls.predictions.transform.LayerNorm.weight', 'cls.predictions.transform.dense.weight', 'cls.seq_relationship.weight', 'cls.predictions.transform.LayerNorm.bias', 'cls.predictions.decoder.bias']\n",
      "- This IS expected if you are initializing BertForSequenceClassification from the checkpoint of a model trained on another task or with another architecture (e.g. initializing a BertForSequenceClassification model from a BertForPreTraining model).\n",
      "- This IS NOT expected if you are initializing BertForSequenceClassification from the checkpoint of a model that you expect to be exactly identical (initializing a BertForSequenceClassification model from a BertForSequenceClassification model).\n",
      "Some weights of BertForSequenceClassification were not initialized from the model checkpoint at DeepPavlov/rubert-base-cased and are newly initialized: ['classifier.bias', 'classifier.weight']\n",
      "You should probably TRAIN this model on a down-stream task to be able to use it for predictions and inference.\n",
      "/workspace/notebooks/Carlos/fine_tunig_project/mi_entorno/lib/python3.8/site-packages/transformers/optimization.py:411: FutureWarning: This implementation of AdamW is deprecated and will be removed in a future version. Use the PyTorch implementation torch.optim.AdamW instead, or set `no_deprecation_warning=True` to disable this warning\n",
      "  warnings.warn(\n",
      "Epoch 1/3: 100%|██████████| 110/110 [00:09<00:00, 12.01it/s, loss=0.00886]\n",
      "Epoch 2/3: 100%|██████████| 110/110 [00:08<00:00, 13.04it/s, loss=0.00166]\n",
      "Epoch 3/3: 100%|██████████| 110/110 [00:08<00:00, 12.52it/s, loss=0.00117] \n"
     ]
    },
    {
     "name": "stdout",
     "output_type": "stream",
     "text": [
      "Accuracy in 1 seed: 0.9882\n",
      "Repetición con semilla 2\n",
      "test_data: 220\n",
      "Usando dispositivo: cuda\n"
     ]
    },
    {
     "name": "stderr",
     "output_type": "stream",
     "text": [
      "/workspace/notebooks/Carlos/fine_tunig_project/mi_entorno/lib/python3.8/site-packages/sklearn/feature_extraction/text.py:516: UserWarning: The parameter 'token_pattern' will not be used since 'tokenizer' is not None'\n",
      "  warnings.warn(\n"
     ]
    },
    {
     "name": "stdout",
     "output_type": "stream",
     "text": [
      "Tamaño de nuevo_test: 172\n"
     ]
    },
    {
     "name": "stderr",
     "output_type": "stream",
     "text": [
      "/workspace/notebooks/Carlos/fine_tunig_project/mi_entorno/lib/python3.8/site-packages/huggingface_hub/file_download.py:795: FutureWarning: `resume_download` is deprecated and will be removed in version 1.0.0. Downloads always resume when possible. If you want to force a new download, use `force_download=True`.\n",
      "  warnings.warn(\n",
      "Some weights of the model checkpoint at DeepPavlov/rubert-base-cased were not used when initializing BertForSequenceClassification: ['cls.seq_relationship.bias', 'cls.predictions.decoder.weight', 'cls.predictions.bias', 'cls.predictions.transform.dense.bias', 'cls.predictions.transform.LayerNorm.weight', 'cls.predictions.transform.dense.weight', 'cls.seq_relationship.weight', 'cls.predictions.transform.LayerNorm.bias', 'cls.predictions.decoder.bias']\n",
      "- This IS expected if you are initializing BertForSequenceClassification from the checkpoint of a model trained on another task or with another architecture (e.g. initializing a BertForSequenceClassification model from a BertForPreTraining model).\n",
      "- This IS NOT expected if you are initializing BertForSequenceClassification from the checkpoint of a model that you expect to be exactly identical (initializing a BertForSequenceClassification model from a BertForSequenceClassification model).\n",
      "Some weights of BertForSequenceClassification were not initialized from the model checkpoint at DeepPavlov/rubert-base-cased and are newly initialized: ['classifier.bias', 'classifier.weight']\n",
      "You should probably TRAIN this model on a down-stream task to be able to use it for predictions and inference.\n",
      "/workspace/notebooks/Carlos/fine_tunig_project/mi_entorno/lib/python3.8/site-packages/transformers/optimization.py:411: FutureWarning: This implementation of AdamW is deprecated and will be removed in a future version. Use the PyTorch implementation torch.optim.AdamW instead, or set `no_deprecation_warning=True` to disable this warning\n",
      "  warnings.warn(\n",
      "Epoch 1/3: 100%|██████████| 110/110 [00:08<00:00, 12.46it/s, loss=0.00438]\n",
      "Epoch 2/3: 100%|██████████| 110/110 [00:08<00:00, 13.40it/s, loss=0.00392]\n",
      "Epoch 3/3: 100%|██████████| 110/110 [00:08<00:00, 12.57it/s, loss=0.00325]\n"
     ]
    },
    {
     "name": "stdout",
     "output_type": "stream",
     "text": [
      "Accuracy in 2 seed: 0.9942\n",
      "Repetición con semilla 3\n",
      "test_data: 220\n",
      "Usando dispositivo: cuda\n"
     ]
    },
    {
     "name": "stderr",
     "output_type": "stream",
     "text": [
      "/workspace/notebooks/Carlos/fine_tunig_project/mi_entorno/lib/python3.8/site-packages/sklearn/feature_extraction/text.py:516: UserWarning: The parameter 'token_pattern' will not be used since 'tokenizer' is not None'\n",
      "  warnings.warn(\n"
     ]
    },
    {
     "name": "stdout",
     "output_type": "stream",
     "text": [
      "Tamaño de nuevo_test: 163\n"
     ]
    },
    {
     "name": "stderr",
     "output_type": "stream",
     "text": [
      "/workspace/notebooks/Carlos/fine_tunig_project/mi_entorno/lib/python3.8/site-packages/huggingface_hub/file_download.py:795: FutureWarning: `resume_download` is deprecated and will be removed in version 1.0.0. Downloads always resume when possible. If you want to force a new download, use `force_download=True`.\n",
      "  warnings.warn(\n",
      "Some weights of the model checkpoint at DeepPavlov/rubert-base-cased were not used when initializing BertForSequenceClassification: ['cls.seq_relationship.bias', 'cls.predictions.decoder.weight', 'cls.predictions.bias', 'cls.predictions.transform.dense.bias', 'cls.predictions.transform.LayerNorm.weight', 'cls.predictions.transform.dense.weight', 'cls.seq_relationship.weight', 'cls.predictions.transform.LayerNorm.bias', 'cls.predictions.decoder.bias']\n",
      "- This IS expected if you are initializing BertForSequenceClassification from the checkpoint of a model trained on another task or with another architecture (e.g. initializing a BertForSequenceClassification model from a BertForPreTraining model).\n",
      "- This IS NOT expected if you are initializing BertForSequenceClassification from the checkpoint of a model that you expect to be exactly identical (initializing a BertForSequenceClassification model from a BertForSequenceClassification model).\n",
      "Some weights of BertForSequenceClassification were not initialized from the model checkpoint at DeepPavlov/rubert-base-cased and are newly initialized: ['classifier.bias', 'classifier.weight']\n",
      "You should probably TRAIN this model on a down-stream task to be able to use it for predictions and inference.\n",
      "/workspace/notebooks/Carlos/fine_tunig_project/mi_entorno/lib/python3.8/site-packages/transformers/optimization.py:411: FutureWarning: This implementation of AdamW is deprecated and will be removed in a future version. Use the PyTorch implementation torch.optim.AdamW instead, or set `no_deprecation_warning=True` to disable this warning\n",
      "  warnings.warn(\n",
      "Epoch 1/3: 100%|██████████| 110/110 [00:08<00:00, 12.99it/s, loss=0.00623]\n",
      "Epoch 2/3: 100%|██████████| 110/110 [00:08<00:00, 13.13it/s, loss=0.00203]\n",
      "Epoch 3/3: 100%|██████████| 110/110 [00:08<00:00, 12.94it/s, loss=0.00187]\n"
     ]
    },
    {
     "name": "stdout",
     "output_type": "stream",
     "text": [
      "Accuracy in 3 seed: 0.9939\n",
      "Repetición con semilla 4\n",
      "test_data: 220\n",
      "Usando dispositivo: cuda\n"
     ]
    },
    {
     "name": "stderr",
     "output_type": "stream",
     "text": [
      "/workspace/notebooks/Carlos/fine_tunig_project/mi_entorno/lib/python3.8/site-packages/sklearn/feature_extraction/text.py:516: UserWarning: The parameter 'token_pattern' will not be used since 'tokenizer' is not None'\n",
      "  warnings.warn(\n"
     ]
    },
    {
     "name": "stdout",
     "output_type": "stream",
     "text": [
      "Tamaño de nuevo_test: 175\n"
     ]
    },
    {
     "name": "stderr",
     "output_type": "stream",
     "text": [
      "/workspace/notebooks/Carlos/fine_tunig_project/mi_entorno/lib/python3.8/site-packages/huggingface_hub/file_download.py:795: FutureWarning: `resume_download` is deprecated and will be removed in version 1.0.0. Downloads always resume when possible. If you want to force a new download, use `force_download=True`.\n",
      "  warnings.warn(\n",
      "Some weights of the model checkpoint at DeepPavlov/rubert-base-cased were not used when initializing BertForSequenceClassification: ['cls.seq_relationship.bias', 'cls.predictions.decoder.weight', 'cls.predictions.bias', 'cls.predictions.transform.dense.bias', 'cls.predictions.transform.LayerNorm.weight', 'cls.predictions.transform.dense.weight', 'cls.seq_relationship.weight', 'cls.predictions.transform.LayerNorm.bias', 'cls.predictions.decoder.bias']\n",
      "- This IS expected if you are initializing BertForSequenceClassification from the checkpoint of a model trained on another task or with another architecture (e.g. initializing a BertForSequenceClassification model from a BertForPreTraining model).\n",
      "- This IS NOT expected if you are initializing BertForSequenceClassification from the checkpoint of a model that you expect to be exactly identical (initializing a BertForSequenceClassification model from a BertForSequenceClassification model).\n",
      "Some weights of BertForSequenceClassification were not initialized from the model checkpoint at DeepPavlov/rubert-base-cased and are newly initialized: ['classifier.bias', 'classifier.weight']\n",
      "You should probably TRAIN this model on a down-stream task to be able to use it for predictions and inference.\n",
      "/workspace/notebooks/Carlos/fine_tunig_project/mi_entorno/lib/python3.8/site-packages/transformers/optimization.py:411: FutureWarning: This implementation of AdamW is deprecated and will be removed in a future version. Use the PyTorch implementation torch.optim.AdamW instead, or set `no_deprecation_warning=True` to disable this warning\n",
      "  warnings.warn(\n",
      "Epoch 1/3: 100%|██████████| 110/110 [00:08<00:00, 13.11it/s, loss=0.00803]\n",
      "Epoch 2/3: 100%|██████████| 110/110 [00:08<00:00, 12.79it/s, loss=0.00217]\n",
      "Epoch 3/3: 100%|██████████| 110/110 [00:10<00:00, 10.18it/s, loss=0.000795]\n"
     ]
    },
    {
     "name": "stdout",
     "output_type": "stream",
     "text": [
      "Accuracy in 4 seed: 0.9886\n",
      "Repetición con semilla 5\n",
      "test_data: 220\n",
      "Usando dispositivo: cuda\n"
     ]
    },
    {
     "name": "stderr",
     "output_type": "stream",
     "text": [
      "/workspace/notebooks/Carlos/fine_tunig_project/mi_entorno/lib/python3.8/site-packages/sklearn/feature_extraction/text.py:516: UserWarning: The parameter 'token_pattern' will not be used since 'tokenizer' is not None'\n",
      "  warnings.warn(\n"
     ]
    },
    {
     "name": "stdout",
     "output_type": "stream",
     "text": [
      "Tamaño de nuevo_test: 165\n"
     ]
    },
    {
     "name": "stderr",
     "output_type": "stream",
     "text": [
      "/workspace/notebooks/Carlos/fine_tunig_project/mi_entorno/lib/python3.8/site-packages/huggingface_hub/file_download.py:795: FutureWarning: `resume_download` is deprecated and will be removed in version 1.0.0. Downloads always resume when possible. If you want to force a new download, use `force_download=True`.\n",
      "  warnings.warn(\n",
      "Some weights of the model checkpoint at DeepPavlov/rubert-base-cased were not used when initializing BertForSequenceClassification: ['cls.seq_relationship.bias', 'cls.predictions.decoder.weight', 'cls.predictions.bias', 'cls.predictions.transform.dense.bias', 'cls.predictions.transform.LayerNorm.weight', 'cls.predictions.transform.dense.weight', 'cls.seq_relationship.weight', 'cls.predictions.transform.LayerNorm.bias', 'cls.predictions.decoder.bias']\n",
      "- This IS expected if you are initializing BertForSequenceClassification from the checkpoint of a model trained on another task or with another architecture (e.g. initializing a BertForSequenceClassification model from a BertForPreTraining model).\n",
      "- This IS NOT expected if you are initializing BertForSequenceClassification from the checkpoint of a model that you expect to be exactly identical (initializing a BertForSequenceClassification model from a BertForSequenceClassification model).\n",
      "Some weights of BertForSequenceClassification were not initialized from the model checkpoint at DeepPavlov/rubert-base-cased and are newly initialized: ['classifier.bias', 'classifier.weight']\n",
      "You should probably TRAIN this model on a down-stream task to be able to use it for predictions and inference.\n",
      "/workspace/notebooks/Carlos/fine_tunig_project/mi_entorno/lib/python3.8/site-packages/transformers/optimization.py:411: FutureWarning: This implementation of AdamW is deprecated and will be removed in a future version. Use the PyTorch implementation torch.optim.AdamW instead, or set `no_deprecation_warning=True` to disable this warning\n",
      "  warnings.warn(\n",
      "Epoch 1/3: 100%|██████████| 110/110 [00:08<00:00, 12.57it/s, loss=0.0071] \n",
      "Epoch 2/3: 100%|██████████| 110/110 [00:08<00:00, 13.33it/s, loss=0.00148]\n",
      "Epoch 3/3: 100%|██████████| 110/110 [00:08<00:00, 13.73it/s, loss=0.00096] \n"
     ]
    },
    {
     "name": "stdout",
     "output_type": "stream",
     "text": [
      "Accuracy in 5 seed: 0.9818\n",
      "\n",
      "Accuracy promedio después de 6 repeticiones: 0.9902 ± 0.0045\n"
     ]
    }
   ],
   "source": [
    "#├── Сокращение по частям речи \n",
    "#│   ├── 1.Первый жанр исходная выборка.txt\n",
    "#│   ├── 2.Первый жанр без клауз, включающих наречия.txt ***\n",
    "#│   ├── 3.Первый жанр без клауз, включающих глаголы.txt\n",
    "#│   ├── 4. Первый жанр без клауз, включающих глаголы и наречия.txt\n",
    "#│   ├── Без прилагательных второй жанр.txt \n",
    "#│   ├── Без прилагательных первый жанр.txt \n",
    "#│   └── Случайные выборки.txt\n",
    "\n",
    "accuracies = []\n",
    "for seed in seeds:\n",
    "    print(f\"Repetición con semilla {seed}\")\n",
    "    \n",
    "    # Instanciar DataProcessor con la semilla actual\n",
    "    #data_processor = DataProcessor(tokenizer, max_length, test_size=0.2, random_state=seed)\n",
    "    \n",
    "    # Crear el pipeline (ajusta según tu estructura)\n",
    "    ppl = PipelineCommon([\n",
    "        (DataLoader_raw('../dataset/Сокращение по частям речи/2.Первый жанр без клауз, включающих наречия.txt',\n",
    "                        '../dataset/Второй_жанр_исходная.txt'), \n",
    "         [], \n",
    "         {'datos_raw': 'datos_raw',\n",
    "         'original_datos_raw': 'original_datos_raw'}),\n",
    "        (SentenceSplitterAndCleaner(tokenizer), \n",
    "         ['datos_raw','original_datos_raw'], \n",
    "         {'datos_procesados': 'datos_procesados',\n",
    "         'original_datos_procesados': 'original_datos_procesados'}),\n",
    "        (DataProcessor(tokenizer,\n",
    "                       max_length,\n",
    "                       seed,\n",
    "                       name = '2.Первый жанр без клауз, включающих наречия',\n",
    "                       threshold = 0.5),  #217 - 195 -> aceptable\n",
    "        \n",
    "         ['datos_procesados','original_datos_procesados'], \n",
    "         {'train_encodings': 'train_encodings', 'train_labels': 'train_labels', \n",
    "          'test_encodings': 'test_encodings', 'test_labels': 'test_labels'}),\n",
    "        (DatasetCreator(batch_size=batch_size), \n",
    "         ['train_encodings', 'train_labels', 'test_encodings', 'test_labels'], \n",
    "         {'train_loader': 'train_loader', 'test_loader': 'test_loader'})\n",
    "    ])\n",
    "    \n",
    "    # Ejecutar el pipeline\n",
    "    result = ppl()\n",
    "    train_loader = result['train_loader']\n",
    "    test_loader = result['test_loader']\n",
    "    \n",
    "    # Configurar el modelo (reiniciarlo en cada repetición)\n",
    "    model = BertForSequenceClassification.from_pretrained('DeepPavlov/rubert-base-cased', num_labels=2)\n",
    "    model.to(device)\n",
    "    optimizer = AdamW(model.parameters(), lr=2e-5)\n",
    "    loss_fn = torch.nn.CrossEntropyLoss()\n",
    "    \n",
    "    # Entrenar el modelo (función train_model definida por ti)\n",
    "    train_model(model, train_loader, optimizer, loss_fn, device, epochs=epochs)\n",
    "    \n",
    "    # Evaluar el modelo (función evaluate_model definida por ti)\n",
    "    results = evaluate_model(model, test_loader, device)\n",
    "    accuracy = results['accuracy']  # Ajusta según la métrica que uses\n",
    "    accuracies.append(accuracy)\n",
    "    \n",
    "    print(f\"Accuracy in {seed} seed: {accuracy:.4f}\")\n",
    "\n",
    "# Calcular promedio y desviación estándar\n",
    "average_accuracy = np.mean(accuracies)\n",
    "std_accuracy = np.std(accuracies)\n",
    "print(f\"\\nAccuracy promedio después de {num_repeats} repeticiones: {average_accuracy:.4f} ± {std_accuracy:.4f}\")"
   ]
  },
  {
   "cell_type": "code",
   "execution_count": 5,
   "id": "b08589ae",
   "metadata": {},
   "outputs": [
    {
     "name": "stdout",
     "output_type": "stream",
     "text": [
      "Repetición con semilla 0\n",
      "test_data: 205\n",
      "Usando dispositivo: cuda\n"
     ]
    },
    {
     "name": "stderr",
     "output_type": "stream",
     "text": [
      "/workspace/notebooks/Carlos/fine_tunig_project/mi_entorno/lib/python3.8/site-packages/sklearn/feature_extraction/text.py:516: UserWarning: The parameter 'token_pattern' will not be used since 'tokenizer' is not None'\n",
      "  warnings.warn(\n"
     ]
    },
    {
     "name": "stdout",
     "output_type": "stream",
     "text": [
      "Tamaño de nuevo_test: 222\n",
      "train_3.Первый жанр без клауз, включающих глаголы.csv\n",
      "test_3.Первый жанр без клауз, включающих глаголы.csv\n"
     ]
    },
    {
     "name": "stderr",
     "output_type": "stream",
     "text": [
      "/workspace/notebooks/Carlos/fine_tunig_project/mi_entorno/lib/python3.8/site-packages/huggingface_hub/file_download.py:795: FutureWarning: `resume_download` is deprecated and will be removed in version 1.0.0. Downloads always resume when possible. If you want to force a new download, use `force_download=True`.\n",
      "  warnings.warn(\n",
      "Some weights of the model checkpoint at DeepPavlov/rubert-base-cased were not used when initializing BertForSequenceClassification: ['cls.seq_relationship.bias', 'cls.predictions.decoder.weight', 'cls.predictions.bias', 'cls.predictions.transform.dense.bias', 'cls.predictions.transform.LayerNorm.weight', 'cls.predictions.transform.dense.weight', 'cls.seq_relationship.weight', 'cls.predictions.transform.LayerNorm.bias', 'cls.predictions.decoder.bias']\n",
      "- This IS expected if you are initializing BertForSequenceClassification from the checkpoint of a model trained on another task or with another architecture (e.g. initializing a BertForSequenceClassification model from a BertForPreTraining model).\n",
      "- This IS NOT expected if you are initializing BertForSequenceClassification from the checkpoint of a model that you expect to be exactly identical (initializing a BertForSequenceClassification model from a BertForSequenceClassification model).\n",
      "Some weights of BertForSequenceClassification were not initialized from the model checkpoint at DeepPavlov/rubert-base-cased and are newly initialized: ['classifier.bias', 'classifier.weight']\n",
      "You should probably TRAIN this model on a down-stream task to be able to use it for predictions and inference.\n",
      "/workspace/notebooks/Carlos/fine_tunig_project/mi_entorno/lib/python3.8/site-packages/transformers/optimization.py:411: FutureWarning: This implementation of AdamW is deprecated and will be removed in a future version. Use the PyTorch implementation torch.optim.AdamW instead, or set `no_deprecation_warning=True` to disable this warning\n",
      "  warnings.warn(\n",
      "Epoch 1/3: 100%|██████████| 103/103 [00:06<00:00, 15.46it/s, loss=0.0079] \n",
      "Epoch 2/3: 100%|██████████| 103/103 [00:07<00:00, 13.46it/s, loss=0.0021] \n",
      "Epoch 3/3: 100%|██████████| 103/103 [00:07<00:00, 13.61it/s, loss=0.00125]\n"
     ]
    },
    {
     "name": "stdout",
     "output_type": "stream",
     "text": [
      "Accuracy in 0 seed: 0.9820\n",
      "Repetición con semilla 1\n",
      "test_data: 205\n",
      "Usando dispositivo: cuda\n"
     ]
    },
    {
     "name": "stderr",
     "output_type": "stream",
     "text": [
      "/workspace/notebooks/Carlos/fine_tunig_project/mi_entorno/lib/python3.8/site-packages/sklearn/feature_extraction/text.py:516: UserWarning: The parameter 'token_pattern' will not be used since 'tokenizer' is not None'\n",
      "  warnings.warn(\n"
     ]
    },
    {
     "name": "stdout",
     "output_type": "stream",
     "text": [
      "Tamaño de nuevo_test: 216\n"
     ]
    },
    {
     "name": "stderr",
     "output_type": "stream",
     "text": [
      "/workspace/notebooks/Carlos/fine_tunig_project/mi_entorno/lib/python3.8/site-packages/huggingface_hub/file_download.py:795: FutureWarning: `resume_download` is deprecated and will be removed in version 1.0.0. Downloads always resume when possible. If you want to force a new download, use `force_download=True`.\n",
      "  warnings.warn(\n",
      "Some weights of the model checkpoint at DeepPavlov/rubert-base-cased were not used when initializing BertForSequenceClassification: ['cls.seq_relationship.bias', 'cls.predictions.decoder.weight', 'cls.predictions.bias', 'cls.predictions.transform.dense.bias', 'cls.predictions.transform.LayerNorm.weight', 'cls.predictions.transform.dense.weight', 'cls.seq_relationship.weight', 'cls.predictions.transform.LayerNorm.bias', 'cls.predictions.decoder.bias']\n",
      "- This IS expected if you are initializing BertForSequenceClassification from the checkpoint of a model trained on another task or with another architecture (e.g. initializing a BertForSequenceClassification model from a BertForPreTraining model).\n",
      "- This IS NOT expected if you are initializing BertForSequenceClassification from the checkpoint of a model that you expect to be exactly identical (initializing a BertForSequenceClassification model from a BertForSequenceClassification model).\n",
      "Some weights of BertForSequenceClassification were not initialized from the model checkpoint at DeepPavlov/rubert-base-cased and are newly initialized: ['classifier.bias', 'classifier.weight']\n",
      "You should probably TRAIN this model on a down-stream task to be able to use it for predictions and inference.\n",
      "/workspace/notebooks/Carlos/fine_tunig_project/mi_entorno/lib/python3.8/site-packages/transformers/optimization.py:411: FutureWarning: This implementation of AdamW is deprecated and will be removed in a future version. Use the PyTorch implementation torch.optim.AdamW instead, or set `no_deprecation_warning=True` to disable this warning\n",
      "  warnings.warn(\n",
      "Epoch 1/3: 100%|██████████| 103/103 [00:08<00:00, 12.49it/s, loss=0.00593]\n",
      "Epoch 2/3: 100%|██████████| 103/103 [00:07<00:00, 13.15it/s, loss=0.00267]\n",
      "Epoch 3/3: 100%|██████████| 103/103 [00:08<00:00, 12.42it/s, loss=0.00282]\n"
     ]
    },
    {
     "name": "stdout",
     "output_type": "stream",
     "text": [
      "Accuracy in 1 seed: 0.9954\n",
      "Repetición con semilla 2\n",
      "test_data: 205\n",
      "Usando dispositivo: cuda\n"
     ]
    },
    {
     "name": "stderr",
     "output_type": "stream",
     "text": [
      "/workspace/notebooks/Carlos/fine_tunig_project/mi_entorno/lib/python3.8/site-packages/sklearn/feature_extraction/text.py:516: UserWarning: The parameter 'token_pattern' will not be used since 'tokenizer' is not None'\n",
      "  warnings.warn(\n"
     ]
    },
    {
     "name": "stdout",
     "output_type": "stream",
     "text": [
      "Tamaño de nuevo_test: 212\n"
     ]
    },
    {
     "name": "stderr",
     "output_type": "stream",
     "text": [
      "/workspace/notebooks/Carlos/fine_tunig_project/mi_entorno/lib/python3.8/site-packages/huggingface_hub/file_download.py:795: FutureWarning: `resume_download` is deprecated and will be removed in version 1.0.0. Downloads always resume when possible. If you want to force a new download, use `force_download=True`.\n",
      "  warnings.warn(\n",
      "Some weights of the model checkpoint at DeepPavlov/rubert-base-cased were not used when initializing BertForSequenceClassification: ['cls.seq_relationship.bias', 'cls.predictions.decoder.weight', 'cls.predictions.bias', 'cls.predictions.transform.dense.bias', 'cls.predictions.transform.LayerNorm.weight', 'cls.predictions.transform.dense.weight', 'cls.seq_relationship.weight', 'cls.predictions.transform.LayerNorm.bias', 'cls.predictions.decoder.bias']\n",
      "- This IS expected if you are initializing BertForSequenceClassification from the checkpoint of a model trained on another task or with another architecture (e.g. initializing a BertForSequenceClassification model from a BertForPreTraining model).\n",
      "- This IS NOT expected if you are initializing BertForSequenceClassification from the checkpoint of a model that you expect to be exactly identical (initializing a BertForSequenceClassification model from a BertForSequenceClassification model).\n",
      "Some weights of BertForSequenceClassification were not initialized from the model checkpoint at DeepPavlov/rubert-base-cased and are newly initialized: ['classifier.bias', 'classifier.weight']\n",
      "You should probably TRAIN this model on a down-stream task to be able to use it for predictions and inference.\n",
      "/workspace/notebooks/Carlos/fine_tunig_project/mi_entorno/lib/python3.8/site-packages/transformers/optimization.py:411: FutureWarning: This implementation of AdamW is deprecated and will be removed in a future version. Use the PyTorch implementation torch.optim.AdamW instead, or set `no_deprecation_warning=True` to disable this warning\n",
      "  warnings.warn(\n",
      "Epoch 1/3: 100%|██████████| 103/103 [00:08<00:00, 12.17it/s, loss=0.00714]\n",
      "Epoch 2/3: 100%|██████████| 103/103 [00:07<00:00, 14.12it/s, loss=0.0042] \n",
      "Epoch 3/3: 100%|██████████| 103/103 [00:07<00:00, 13.75it/s, loss=0.000996]\n"
     ]
    },
    {
     "name": "stdout",
     "output_type": "stream",
     "text": [
      "Accuracy in 2 seed: 0.9858\n",
      "Repetición con semilla 3\n",
      "test_data: 205\n",
      "Usando dispositivo: cuda\n"
     ]
    },
    {
     "name": "stderr",
     "output_type": "stream",
     "text": [
      "/workspace/notebooks/Carlos/fine_tunig_project/mi_entorno/lib/python3.8/site-packages/sklearn/feature_extraction/text.py:516: UserWarning: The parameter 'token_pattern' will not be used since 'tokenizer' is not None'\n",
      "  warnings.warn(\n"
     ]
    },
    {
     "name": "stdout",
     "output_type": "stream",
     "text": [
      "Tamaño de nuevo_test: 213\n"
     ]
    },
    {
     "name": "stderr",
     "output_type": "stream",
     "text": [
      "/workspace/notebooks/Carlos/fine_tunig_project/mi_entorno/lib/python3.8/site-packages/huggingface_hub/file_download.py:795: FutureWarning: `resume_download` is deprecated and will be removed in version 1.0.0. Downloads always resume when possible. If you want to force a new download, use `force_download=True`.\n",
      "  warnings.warn(\n",
      "Some weights of the model checkpoint at DeepPavlov/rubert-base-cased were not used when initializing BertForSequenceClassification: ['cls.seq_relationship.bias', 'cls.predictions.decoder.weight', 'cls.predictions.bias', 'cls.predictions.transform.dense.bias', 'cls.predictions.transform.LayerNorm.weight', 'cls.predictions.transform.dense.weight', 'cls.seq_relationship.weight', 'cls.predictions.transform.LayerNorm.bias', 'cls.predictions.decoder.bias']\n",
      "- This IS expected if you are initializing BertForSequenceClassification from the checkpoint of a model trained on another task or with another architecture (e.g. initializing a BertForSequenceClassification model from a BertForPreTraining model).\n",
      "- This IS NOT expected if you are initializing BertForSequenceClassification from the checkpoint of a model that you expect to be exactly identical (initializing a BertForSequenceClassification model from a BertForSequenceClassification model).\n",
      "Some weights of BertForSequenceClassification were not initialized from the model checkpoint at DeepPavlov/rubert-base-cased and are newly initialized: ['classifier.bias', 'classifier.weight']\n",
      "You should probably TRAIN this model on a down-stream task to be able to use it for predictions and inference.\n",
      "/workspace/notebooks/Carlos/fine_tunig_project/mi_entorno/lib/python3.8/site-packages/transformers/optimization.py:411: FutureWarning: This implementation of AdamW is deprecated and will be removed in a future version. Use the PyTorch implementation torch.optim.AdamW instead, or set `no_deprecation_warning=True` to disable this warning\n",
      "  warnings.warn(\n",
      "Epoch 1/3: 100%|██████████| 103/103 [00:08<00:00, 12.78it/s, loss=0.0124]\n",
      "Epoch 2/3: 100%|██████████| 103/103 [00:07<00:00, 13.34it/s, loss=0.00963]\n",
      "Epoch 3/3: 100%|██████████| 103/103 [00:07<00:00, 13.11it/s, loss=0.00181]\n"
     ]
    },
    {
     "name": "stdout",
     "output_type": "stream",
     "text": [
      "Accuracy in 3 seed: 0.9624\n",
      "Repetición con semilla 4\n",
      "test_data: 205\n",
      "Usando dispositivo: cuda\n"
     ]
    },
    {
     "name": "stderr",
     "output_type": "stream",
     "text": [
      "/workspace/notebooks/Carlos/fine_tunig_project/mi_entorno/lib/python3.8/site-packages/sklearn/feature_extraction/text.py:516: UserWarning: The parameter 'token_pattern' will not be used since 'tokenizer' is not None'\n",
      "  warnings.warn(\n"
     ]
    },
    {
     "name": "stdout",
     "output_type": "stream",
     "text": [
      "Tamaño de nuevo_test: 207\n"
     ]
    },
    {
     "name": "stderr",
     "output_type": "stream",
     "text": [
      "/workspace/notebooks/Carlos/fine_tunig_project/mi_entorno/lib/python3.8/site-packages/huggingface_hub/file_download.py:795: FutureWarning: `resume_download` is deprecated and will be removed in version 1.0.0. Downloads always resume when possible. If you want to force a new download, use `force_download=True`.\n",
      "  warnings.warn(\n",
      "Some weights of the model checkpoint at DeepPavlov/rubert-base-cased were not used when initializing BertForSequenceClassification: ['cls.seq_relationship.bias', 'cls.predictions.decoder.weight', 'cls.predictions.bias', 'cls.predictions.transform.dense.bias', 'cls.predictions.transform.LayerNorm.weight', 'cls.predictions.transform.dense.weight', 'cls.seq_relationship.weight', 'cls.predictions.transform.LayerNorm.bias', 'cls.predictions.decoder.bias']\n",
      "- This IS expected if you are initializing BertForSequenceClassification from the checkpoint of a model trained on another task or with another architecture (e.g. initializing a BertForSequenceClassification model from a BertForPreTraining model).\n",
      "- This IS NOT expected if you are initializing BertForSequenceClassification from the checkpoint of a model that you expect to be exactly identical (initializing a BertForSequenceClassification model from a BertForSequenceClassification model).\n",
      "Some weights of BertForSequenceClassification were not initialized from the model checkpoint at DeepPavlov/rubert-base-cased and are newly initialized: ['classifier.bias', 'classifier.weight']\n",
      "You should probably TRAIN this model on a down-stream task to be able to use it for predictions and inference.\n",
      "/workspace/notebooks/Carlos/fine_tunig_project/mi_entorno/lib/python3.8/site-packages/transformers/optimization.py:411: FutureWarning: This implementation of AdamW is deprecated and will be removed in a future version. Use the PyTorch implementation torch.optim.AdamW instead, or set `no_deprecation_warning=True` to disable this warning\n",
      "  warnings.warn(\n",
      "Epoch 1/3: 100%|██████████| 103/103 [00:08<00:00, 12.68it/s, loss=0.00561]\n",
      "Epoch 2/3: 100%|██████████| 103/103 [00:08<00:00, 11.98it/s, loss=0.00481]\n",
      "Epoch 3/3: 100%|██████████| 103/103 [00:07<00:00, 12.95it/s, loss=0.000971]\n"
     ]
    },
    {
     "name": "stdout",
     "output_type": "stream",
     "text": [
      "Accuracy in 4 seed: 0.9710\n",
      "Repetición con semilla 5\n",
      "test_data: 205\n",
      "Usando dispositivo: cuda\n"
     ]
    },
    {
     "name": "stderr",
     "output_type": "stream",
     "text": [
      "/workspace/notebooks/Carlos/fine_tunig_project/mi_entorno/lib/python3.8/site-packages/sklearn/feature_extraction/text.py:516: UserWarning: The parameter 'token_pattern' will not be used since 'tokenizer' is not None'\n",
      "  warnings.warn(\n"
     ]
    },
    {
     "name": "stdout",
     "output_type": "stream",
     "text": [
      "Tamaño de nuevo_test: 222\n"
     ]
    },
    {
     "name": "stderr",
     "output_type": "stream",
     "text": [
      "/workspace/notebooks/Carlos/fine_tunig_project/mi_entorno/lib/python3.8/site-packages/huggingface_hub/file_download.py:795: FutureWarning: `resume_download` is deprecated and will be removed in version 1.0.0. Downloads always resume when possible. If you want to force a new download, use `force_download=True`.\n",
      "  warnings.warn(\n",
      "Some weights of the model checkpoint at DeepPavlov/rubert-base-cased were not used when initializing BertForSequenceClassification: ['cls.seq_relationship.bias', 'cls.predictions.decoder.weight', 'cls.predictions.bias', 'cls.predictions.transform.dense.bias', 'cls.predictions.transform.LayerNorm.weight', 'cls.predictions.transform.dense.weight', 'cls.seq_relationship.weight', 'cls.predictions.transform.LayerNorm.bias', 'cls.predictions.decoder.bias']\n",
      "- This IS expected if you are initializing BertForSequenceClassification from the checkpoint of a model trained on another task or with another architecture (e.g. initializing a BertForSequenceClassification model from a BertForPreTraining model).\n",
      "- This IS NOT expected if you are initializing BertForSequenceClassification from the checkpoint of a model that you expect to be exactly identical (initializing a BertForSequenceClassification model from a BertForSequenceClassification model).\n",
      "Some weights of BertForSequenceClassification were not initialized from the model checkpoint at DeepPavlov/rubert-base-cased and are newly initialized: ['classifier.bias', 'classifier.weight']\n",
      "You should probably TRAIN this model on a down-stream task to be able to use it for predictions and inference.\n",
      "/workspace/notebooks/Carlos/fine_tunig_project/mi_entorno/lib/python3.8/site-packages/transformers/optimization.py:411: FutureWarning: This implementation of AdamW is deprecated and will be removed in a future version. Use the PyTorch implementation torch.optim.AdamW instead, or set `no_deprecation_warning=True` to disable this warning\n",
      "  warnings.warn(\n",
      "Epoch 1/3: 100%|██████████| 103/103 [00:08<00:00, 11.77it/s, loss=0.00784]\n",
      "Epoch 2/3: 100%|██████████| 103/103 [00:07<00:00, 13.07it/s, loss=0.00159]\n",
      "Epoch 3/3: 100%|██████████| 103/103 [00:07<00:00, 13.43it/s, loss=0.000871]\n"
     ]
    },
    {
     "name": "stdout",
     "output_type": "stream",
     "text": [
      "Accuracy in 5 seed: 0.9775\n",
      "\n",
      "Accuracy promedio después de 6 repeticiones: 0.9790 ± 0.0105\n"
     ]
    }
   ],
   "source": [
    "#├── Сокращение по частям речи \n",
    "#│   ├── 1.Первый жанр исходная выборка.txt\n",
    "#│   ├── 2.Первый жанр без клауз, включающих наречия.txt \n",
    "#│   ├── 3.Первый жанр без клауз, включающих глаголы.txt ***\n",
    "#│   ├── 4. Первый жанр без клауз, включающих глаголы и наречия.txt\n",
    "#│   ├── Без прилагательных второй жанр.txt \n",
    "#│   ├── Без прилагательных первый жанр.txt \n",
    "#│   └── Случайные выборки.txt\n",
    "\n",
    "\n",
    "accuracies = []\n",
    "for seed in seeds:\n",
    "    print(f\"Repetición con semilla {seed}\")\n",
    "    \n",
    "    # Instanciar DataProcessor con la semilla actual\n",
    "    #data_processor = DataProcessor(tokenizer, max_length, test_size=0.2, random_state=seed)\n",
    "    \n",
    "    # Crear el pipeline (ajusta según tu estructura)\n",
    "    ppl = PipelineCommon([\n",
    "        (DataLoader_raw('../dataset/Сокращение по частям речи/3.Первый жанр без клауз, включающих глаголы.txt',\n",
    "                        '../dataset/Второй_жанр_исходная.txt'), \n",
    "         [], \n",
    "         {'datos_raw': 'datos_raw',\n",
    "         'original_datos_raw': 'original_datos_raw'}),\n",
    "        (SentenceSplitterAndCleaner(tokenizer), \n",
    "         ['datos_raw','original_datos_raw'], \n",
    "         {'datos_procesados': 'datos_procesados',\n",
    "         'original_datos_procesados': 'original_datos_procesados'}),\n",
    "        (DataProcessor(tokenizer,\n",
    "                       max_length,\n",
    "                       seed,\n",
    "                       name = '3.Первый жанр без клауз, включающих глаголы',\n",
    "                       threshold = 0.5),  #217 - 195 -> aceptable\n",
    "        \n",
    "         ['datos_procesados','original_datos_procesados'], \n",
    "         {'train_encodings': 'train_encodings', 'train_labels': 'train_labels', \n",
    "          'test_encodings': 'test_encodings', 'test_labels': 'test_labels'}),\n",
    "        (DatasetCreator(batch_size=batch_size), \n",
    "         ['train_encodings', 'train_labels', 'test_encodings', 'test_labels'], \n",
    "         {'train_loader': 'train_loader', 'test_loader': 'test_loader'})\n",
    "    ])\n",
    "    \n",
    "    # Ejecutar el pipeline\n",
    "    result = ppl()\n",
    "    train_loader = result['train_loader']\n",
    "    test_loader = result['test_loader']\n",
    "    \n",
    "    # Configurar el modelo (reiniciarlo en cada repetición)\n",
    "    model = BertForSequenceClassification.from_pretrained('DeepPavlov/rubert-base-cased', num_labels=2)\n",
    "    model.to(device)\n",
    "    optimizer = AdamW(model.parameters(), lr=2e-5)\n",
    "    loss_fn = torch.nn.CrossEntropyLoss()\n",
    "    \n",
    "    # Entrenar el modelo (función train_model definida por ti)\n",
    "    train_model(model, train_loader, optimizer, loss_fn, device, epochs=epochs)\n",
    "    \n",
    "    # Evaluar el modelo (función evaluate_model definida por ti)\n",
    "    results = evaluate_model(model, test_loader, device)\n",
    "    accuracy = results['accuracy']  # Ajusta según la métrica que uses\n",
    "    accuracies.append(accuracy)\n",
    "    \n",
    "    print(f\"Accuracy in {seed} seed: {accuracy:.4f}\")\n",
    "\n",
    "# Calcular promedio y desviación estándar\n",
    "average_accuracy = np.mean(accuracies)\n",
    "std_accuracy = np.std(accuracies)\n",
    "print(f\"\\nAccuracy promedio después de {num_repeats} repeticiones: {average_accuracy:.4f} ± {std_accuracy:.4f}\")\n"
   ]
  },
  {
   "cell_type": "code",
   "execution_count": 6,
   "id": "8676561b",
   "metadata": {},
   "outputs": [
    {
     "name": "stdout",
     "output_type": "stream",
     "text": [
      "Repetición con semilla 0\n",
      "test_data: 200\n",
      "Usando dispositivo: cuda\n"
     ]
    },
    {
     "name": "stderr",
     "output_type": "stream",
     "text": [
      "/workspace/notebooks/Carlos/fine_tunig_project/mi_entorno/lib/python3.8/site-packages/sklearn/feature_extraction/text.py:516: UserWarning: The parameter 'token_pattern' will not be used since 'tokenizer' is not None'\n",
      "  warnings.warn(\n"
     ]
    },
    {
     "name": "stdout",
     "output_type": "stream",
     "text": [
      "Tamaño de nuevo_test: 237\n",
      "train_4.Первый жанр без клауз, включающих глаголы и наречия.csv\n",
      "test_4.Первый жанр без клауз, включающих глаголы и наречия.csv\n"
     ]
    },
    {
     "name": "stderr",
     "output_type": "stream",
     "text": [
      "/workspace/notebooks/Carlos/fine_tunig_project/mi_entorno/lib/python3.8/site-packages/huggingface_hub/file_download.py:795: FutureWarning: `resume_download` is deprecated and will be removed in version 1.0.0. Downloads always resume when possible. If you want to force a new download, use `force_download=True`.\n",
      "  warnings.warn(\n",
      "Some weights of the model checkpoint at DeepPavlov/rubert-base-cased were not used when initializing BertForSequenceClassification: ['cls.seq_relationship.bias', 'cls.predictions.decoder.weight', 'cls.predictions.bias', 'cls.predictions.transform.dense.bias', 'cls.predictions.transform.LayerNorm.weight', 'cls.predictions.transform.dense.weight', 'cls.seq_relationship.weight', 'cls.predictions.transform.LayerNorm.bias', 'cls.predictions.decoder.bias']\n",
      "- This IS expected if you are initializing BertForSequenceClassification from the checkpoint of a model trained on another task or with another architecture (e.g. initializing a BertForSequenceClassification model from a BertForPreTraining model).\n",
      "- This IS NOT expected if you are initializing BertForSequenceClassification from the checkpoint of a model that you expect to be exactly identical (initializing a BertForSequenceClassification model from a BertForSequenceClassification model).\n",
      "Some weights of BertForSequenceClassification were not initialized from the model checkpoint at DeepPavlov/rubert-base-cased and are newly initialized: ['classifier.bias', 'classifier.weight']\n",
      "You should probably TRAIN this model on a down-stream task to be able to use it for predictions and inference.\n",
      "/workspace/notebooks/Carlos/fine_tunig_project/mi_entorno/lib/python3.8/site-packages/transformers/optimization.py:411: FutureWarning: This implementation of AdamW is deprecated and will be removed in a future version. Use the PyTorch implementation torch.optim.AdamW instead, or set `no_deprecation_warning=True` to disable this warning\n",
      "  warnings.warn(\n",
      "Epoch 1/3: 100%|██████████| 100/100 [00:07<00:00, 12.65it/s, loss=0.0166]\n",
      "Epoch 2/3: 100%|██████████| 100/100 [00:07<00:00, 13.22it/s, loss=0.0545]\n",
      "Epoch 3/3: 100%|██████████| 100/100 [00:07<00:00, 13.22it/s, loss=0.00391]\n"
     ]
    },
    {
     "name": "stdout",
     "output_type": "stream",
     "text": [
      "Accuracy in 0 seed: 0.9789\n",
      "Repetición con semilla 1\n",
      "test_data: 200\n",
      "Usando dispositivo: cuda\n"
     ]
    },
    {
     "name": "stderr",
     "output_type": "stream",
     "text": [
      "/workspace/notebooks/Carlos/fine_tunig_project/mi_entorno/lib/python3.8/site-packages/sklearn/feature_extraction/text.py:516: UserWarning: The parameter 'token_pattern' will not be used since 'tokenizer' is not None'\n",
      "  warnings.warn(\n"
     ]
    },
    {
     "name": "stdout",
     "output_type": "stream",
     "text": [
      "Tamaño de nuevo_test: 236\n"
     ]
    },
    {
     "name": "stderr",
     "output_type": "stream",
     "text": [
      "/workspace/notebooks/Carlos/fine_tunig_project/mi_entorno/lib/python3.8/site-packages/huggingface_hub/file_download.py:795: FutureWarning: `resume_download` is deprecated and will be removed in version 1.0.0. Downloads always resume when possible. If you want to force a new download, use `force_download=True`.\n",
      "  warnings.warn(\n",
      "Some weights of the model checkpoint at DeepPavlov/rubert-base-cased were not used when initializing BertForSequenceClassification: ['cls.seq_relationship.bias', 'cls.predictions.decoder.weight', 'cls.predictions.bias', 'cls.predictions.transform.dense.bias', 'cls.predictions.transform.LayerNorm.weight', 'cls.predictions.transform.dense.weight', 'cls.seq_relationship.weight', 'cls.predictions.transform.LayerNorm.bias', 'cls.predictions.decoder.bias']\n",
      "- This IS expected if you are initializing BertForSequenceClassification from the checkpoint of a model trained on another task or with another architecture (e.g. initializing a BertForSequenceClassification model from a BertForPreTraining model).\n",
      "- This IS NOT expected if you are initializing BertForSequenceClassification from the checkpoint of a model that you expect to be exactly identical (initializing a BertForSequenceClassification model from a BertForSequenceClassification model).\n",
      "Some weights of BertForSequenceClassification were not initialized from the model checkpoint at DeepPavlov/rubert-base-cased and are newly initialized: ['classifier.bias', 'classifier.weight']\n",
      "You should probably TRAIN this model on a down-stream task to be able to use it for predictions and inference.\n",
      "/workspace/notebooks/Carlos/fine_tunig_project/mi_entorno/lib/python3.8/site-packages/transformers/optimization.py:411: FutureWarning: This implementation of AdamW is deprecated and will be removed in a future version. Use the PyTorch implementation torch.optim.AdamW instead, or set `no_deprecation_warning=True` to disable this warning\n",
      "  warnings.warn(\n",
      "Epoch 1/3: 100%|██████████| 100/100 [00:09<00:00, 10.93it/s, loss=0.00569]\n",
      "Epoch 2/3: 100%|██████████| 100/100 [00:07<00:00, 12.60it/s, loss=0.00288]\n",
      "Epoch 3/3: 100%|██████████| 100/100 [00:07<00:00, 12.87it/s, loss=0.00167]\n"
     ]
    },
    {
     "name": "stdout",
     "output_type": "stream",
     "text": [
      "Accuracy in 1 seed: 0.9831\n",
      "Repetición con semilla 2\n",
      "test_data: 200\n",
      "Usando dispositivo: cuda\n"
     ]
    },
    {
     "name": "stderr",
     "output_type": "stream",
     "text": [
      "/workspace/notebooks/Carlos/fine_tunig_project/mi_entorno/lib/python3.8/site-packages/sklearn/feature_extraction/text.py:516: UserWarning: The parameter 'token_pattern' will not be used since 'tokenizer' is not None'\n",
      "  warnings.warn(\n"
     ]
    },
    {
     "name": "stdout",
     "output_type": "stream",
     "text": [
      "Tamaño de nuevo_test: 232\n"
     ]
    },
    {
     "name": "stderr",
     "output_type": "stream",
     "text": [
      "/workspace/notebooks/Carlos/fine_tunig_project/mi_entorno/lib/python3.8/site-packages/huggingface_hub/file_download.py:795: FutureWarning: `resume_download` is deprecated and will be removed in version 1.0.0. Downloads always resume when possible. If you want to force a new download, use `force_download=True`.\n",
      "  warnings.warn(\n",
      "Some weights of the model checkpoint at DeepPavlov/rubert-base-cased were not used when initializing BertForSequenceClassification: ['cls.seq_relationship.bias', 'cls.predictions.decoder.weight', 'cls.predictions.bias', 'cls.predictions.transform.dense.bias', 'cls.predictions.transform.LayerNorm.weight', 'cls.predictions.transform.dense.weight', 'cls.seq_relationship.weight', 'cls.predictions.transform.LayerNorm.bias', 'cls.predictions.decoder.bias']\n",
      "- This IS expected if you are initializing BertForSequenceClassification from the checkpoint of a model trained on another task or with another architecture (e.g. initializing a BertForSequenceClassification model from a BertForPreTraining model).\n",
      "- This IS NOT expected if you are initializing BertForSequenceClassification from the checkpoint of a model that you expect to be exactly identical (initializing a BertForSequenceClassification model from a BertForSequenceClassification model).\n",
      "Some weights of BertForSequenceClassification were not initialized from the model checkpoint at DeepPavlov/rubert-base-cased and are newly initialized: ['classifier.bias', 'classifier.weight']\n",
      "You should probably TRAIN this model on a down-stream task to be able to use it for predictions and inference.\n",
      "/workspace/notebooks/Carlos/fine_tunig_project/mi_entorno/lib/python3.8/site-packages/transformers/optimization.py:411: FutureWarning: This implementation of AdamW is deprecated and will be removed in a future version. Use the PyTorch implementation torch.optim.AdamW instead, or set `no_deprecation_warning=True` to disable this warning\n",
      "  warnings.warn(\n",
      "Epoch 1/3: 100%|██████████| 100/100 [00:08<00:00, 12.24it/s, loss=0.084] \n",
      "Epoch 2/3: 100%|██████████| 100/100 [00:07<00:00, 13.31it/s, loss=0.39]  \n",
      "Epoch 3/3: 100%|██████████| 100/100 [00:07<00:00, 12.85it/s, loss=0.00106]\n"
     ]
    },
    {
     "name": "stdout",
     "output_type": "stream",
     "text": [
      "Accuracy in 2 seed: 0.9784\n",
      "Repetición con semilla 3\n",
      "test_data: 200\n",
      "Usando dispositivo: cuda\n"
     ]
    },
    {
     "name": "stderr",
     "output_type": "stream",
     "text": [
      "/workspace/notebooks/Carlos/fine_tunig_project/mi_entorno/lib/python3.8/site-packages/sklearn/feature_extraction/text.py:516: UserWarning: The parameter 'token_pattern' will not be used since 'tokenizer' is not None'\n",
      "  warnings.warn(\n"
     ]
    },
    {
     "name": "stdout",
     "output_type": "stream",
     "text": [
      "Tamaño de nuevo_test: 231\n"
     ]
    },
    {
     "name": "stderr",
     "output_type": "stream",
     "text": [
      "/workspace/notebooks/Carlos/fine_tunig_project/mi_entorno/lib/python3.8/site-packages/huggingface_hub/file_download.py:795: FutureWarning: `resume_download` is deprecated and will be removed in version 1.0.0. Downloads always resume when possible. If you want to force a new download, use `force_download=True`.\n",
      "  warnings.warn(\n",
      "Some weights of the model checkpoint at DeepPavlov/rubert-base-cased were not used when initializing BertForSequenceClassification: ['cls.seq_relationship.bias', 'cls.predictions.decoder.weight', 'cls.predictions.bias', 'cls.predictions.transform.dense.bias', 'cls.predictions.transform.LayerNorm.weight', 'cls.predictions.transform.dense.weight', 'cls.seq_relationship.weight', 'cls.predictions.transform.LayerNorm.bias', 'cls.predictions.decoder.bias']\n",
      "- This IS expected if you are initializing BertForSequenceClassification from the checkpoint of a model trained on another task or with another architecture (e.g. initializing a BertForSequenceClassification model from a BertForPreTraining model).\n",
      "- This IS NOT expected if you are initializing BertForSequenceClassification from the checkpoint of a model that you expect to be exactly identical (initializing a BertForSequenceClassification model from a BertForSequenceClassification model).\n",
      "Some weights of BertForSequenceClassification were not initialized from the model checkpoint at DeepPavlov/rubert-base-cased and are newly initialized: ['classifier.bias', 'classifier.weight']\n",
      "You should probably TRAIN this model on a down-stream task to be able to use it for predictions and inference.\n",
      "/workspace/notebooks/Carlos/fine_tunig_project/mi_entorno/lib/python3.8/site-packages/transformers/optimization.py:411: FutureWarning: This implementation of AdamW is deprecated and will be removed in a future version. Use the PyTorch implementation torch.optim.AdamW instead, or set `no_deprecation_warning=True` to disable this warning\n",
      "  warnings.warn(\n",
      "Epoch 1/3: 100%|██████████| 100/100 [00:08<00:00, 12.42it/s, loss=0.00982]\n",
      "Epoch 2/3: 100%|██████████| 100/100 [00:07<00:00, 13.09it/s, loss=0.00273]\n",
      "Epoch 3/3: 100%|██████████| 100/100 [00:08<00:00, 12.39it/s, loss=0.00123]\n"
     ]
    },
    {
     "name": "stdout",
     "output_type": "stream",
     "text": [
      "Accuracy in 3 seed: 0.9697\n",
      "Repetición con semilla 4\n",
      "test_data: 200\n",
      "Usando dispositivo: cuda\n"
     ]
    },
    {
     "name": "stderr",
     "output_type": "stream",
     "text": [
      "/workspace/notebooks/Carlos/fine_tunig_project/mi_entorno/lib/python3.8/site-packages/sklearn/feature_extraction/text.py:516: UserWarning: The parameter 'token_pattern' will not be used since 'tokenizer' is not None'\n",
      "  warnings.warn(\n"
     ]
    },
    {
     "name": "stdout",
     "output_type": "stream",
     "text": [
      "Tamaño de nuevo_test: 233\n"
     ]
    },
    {
     "name": "stderr",
     "output_type": "stream",
     "text": [
      "/workspace/notebooks/Carlos/fine_tunig_project/mi_entorno/lib/python3.8/site-packages/huggingface_hub/file_download.py:795: FutureWarning: `resume_download` is deprecated and will be removed in version 1.0.0. Downloads always resume when possible. If you want to force a new download, use `force_download=True`.\n",
      "  warnings.warn(\n",
      "Some weights of the model checkpoint at DeepPavlov/rubert-base-cased were not used when initializing BertForSequenceClassification: ['cls.seq_relationship.bias', 'cls.predictions.decoder.weight', 'cls.predictions.bias', 'cls.predictions.transform.dense.bias', 'cls.predictions.transform.LayerNorm.weight', 'cls.predictions.transform.dense.weight', 'cls.seq_relationship.weight', 'cls.predictions.transform.LayerNorm.bias', 'cls.predictions.decoder.bias']\n",
      "- This IS expected if you are initializing BertForSequenceClassification from the checkpoint of a model trained on another task or with another architecture (e.g. initializing a BertForSequenceClassification model from a BertForPreTraining model).\n",
      "- This IS NOT expected if you are initializing BertForSequenceClassification from the checkpoint of a model that you expect to be exactly identical (initializing a BertForSequenceClassification model from a BertForSequenceClassification model).\n",
      "Some weights of BertForSequenceClassification were not initialized from the model checkpoint at DeepPavlov/rubert-base-cased and are newly initialized: ['classifier.bias', 'classifier.weight']\n",
      "You should probably TRAIN this model on a down-stream task to be able to use it for predictions and inference.\n",
      "/workspace/notebooks/Carlos/fine_tunig_project/mi_entorno/lib/python3.8/site-packages/transformers/optimization.py:411: FutureWarning: This implementation of AdamW is deprecated and will be removed in a future version. Use the PyTorch implementation torch.optim.AdamW instead, or set `no_deprecation_warning=True` to disable this warning\n",
      "  warnings.warn(\n",
      "Epoch 1/3: 100%|██████████| 100/100 [00:09<00:00, 10.81it/s, loss=0.0141]\n",
      "Epoch 2/3: 100%|██████████| 100/100 [00:07<00:00, 13.11it/s, loss=0.00874]\n",
      "Epoch 3/3: 100%|██████████| 100/100 [00:07<00:00, 13.63it/s, loss=0.00122]\n"
     ]
    },
    {
     "name": "stdout",
     "output_type": "stream",
     "text": [
      "Accuracy in 4 seed: 0.9828\n",
      "Repetición con semilla 5\n",
      "test_data: 200\n",
      "Usando dispositivo: cuda\n"
     ]
    },
    {
     "name": "stderr",
     "output_type": "stream",
     "text": [
      "/workspace/notebooks/Carlos/fine_tunig_project/mi_entorno/lib/python3.8/site-packages/sklearn/feature_extraction/text.py:516: UserWarning: The parameter 'token_pattern' will not be used since 'tokenizer' is not None'\n",
      "  warnings.warn(\n"
     ]
    },
    {
     "name": "stdout",
     "output_type": "stream",
     "text": [
      "Tamaño de nuevo_test: 231\n"
     ]
    },
    {
     "name": "stderr",
     "output_type": "stream",
     "text": [
      "/workspace/notebooks/Carlos/fine_tunig_project/mi_entorno/lib/python3.8/site-packages/huggingface_hub/file_download.py:795: FutureWarning: `resume_download` is deprecated and will be removed in version 1.0.0. Downloads always resume when possible. If you want to force a new download, use `force_download=True`.\n",
      "  warnings.warn(\n",
      "Some weights of the model checkpoint at DeepPavlov/rubert-base-cased were not used when initializing BertForSequenceClassification: ['cls.seq_relationship.bias', 'cls.predictions.decoder.weight', 'cls.predictions.bias', 'cls.predictions.transform.dense.bias', 'cls.predictions.transform.LayerNorm.weight', 'cls.predictions.transform.dense.weight', 'cls.seq_relationship.weight', 'cls.predictions.transform.LayerNorm.bias', 'cls.predictions.decoder.bias']\n",
      "- This IS expected if you are initializing BertForSequenceClassification from the checkpoint of a model trained on another task or with another architecture (e.g. initializing a BertForSequenceClassification model from a BertForPreTraining model).\n",
      "- This IS NOT expected if you are initializing BertForSequenceClassification from the checkpoint of a model that you expect to be exactly identical (initializing a BertForSequenceClassification model from a BertForSequenceClassification model).\n",
      "Some weights of BertForSequenceClassification were not initialized from the model checkpoint at DeepPavlov/rubert-base-cased and are newly initialized: ['classifier.bias', 'classifier.weight']\n",
      "You should probably TRAIN this model on a down-stream task to be able to use it for predictions and inference.\n",
      "/workspace/notebooks/Carlos/fine_tunig_project/mi_entorno/lib/python3.8/site-packages/transformers/optimization.py:411: FutureWarning: This implementation of AdamW is deprecated and will be removed in a future version. Use the PyTorch implementation torch.optim.AdamW instead, or set `no_deprecation_warning=True` to disable this warning\n",
      "  warnings.warn(\n",
      "Epoch 1/3: 100%|██████████| 100/100 [00:07<00:00, 13.54it/s, loss=0.00856]\n",
      "Epoch 2/3: 100%|██████████| 100/100 [00:08<00:00, 11.73it/s, loss=0.00255]\n",
      "Epoch 3/3: 100%|██████████| 100/100 [00:06<00:00, 16.30it/s, loss=0.00105]\n"
     ]
    },
    {
     "name": "stdout",
     "output_type": "stream",
     "text": [
      "Accuracy in 5 seed: 0.9697\n",
      "\n",
      "Accuracy promedio después de 6 repeticiones: 0.9771 ± 0.0055\n"
     ]
    }
   ],
   "source": [
    "#├── Сокращение по частям речи \n",
    "#│   ├── 1.Первый жанр исходная выборка.txt\n",
    "#│   ├── 2.Первый жанр без клауз, включающих наречия.txt \n",
    "#│   ├── 3.Первый жанр без клауз, включающих глаголы.txt \n",
    "#│   ├── 4. Первый жанр без клауз, включающих глаголы и наречия.txt ***\n",
    "#│   ├── Без прилагательных второй жанр.txt \n",
    "#│   ├── Без прилагательных первый жанр.txt \n",
    "#│   └── Случайные выборки.txt\n",
    "\n",
    "\n",
    "accuracies = []\n",
    "for seed in seeds:\n",
    "    print(f\"Repetición con semilla {seed}\")\n",
    "    \n",
    "    # Instanciar DataProcessor con la semilla actual\n",
    "    #data_processor = DataProcessor(tokenizer, max_length, test_size=0.2, random_state=seed)\n",
    "    \n",
    "    # Crear el pipeline (ajusta según tu estructura)\n",
    "    ppl = PipelineCommon([\n",
    "        (DataLoader_raw('../dataset/Сокращение по частям речи/4. Первый жанр без клауз, включающих глаголы и наречия.txt',\n",
    "                        '../dataset/Второй_жанр_исходная.txt'), \n",
    "         [], \n",
    "         {'datos_raw': 'datos_raw',\n",
    "         'original_datos_raw': 'original_datos_raw'}),\n",
    "        (SentenceSplitterAndCleaner(tokenizer), \n",
    "         ['datos_raw','original_datos_raw'], \n",
    "         {'datos_procesados': 'datos_procesados',\n",
    "         'original_datos_procesados': 'original_datos_procesados'}),\n",
    "        (DataProcessor(tokenizer,\n",
    "                       max_length,\n",
    "                       seed,\n",
    "                       name = '4.Первый жанр без клауз, включающих глаголы и наречия',\n",
    "                       threshold = 0.5),  #217 - 195 -> aceptable\n",
    "        \n",
    "         ['datos_procesados','original_datos_procesados'], \n",
    "         {'train_encodings': 'train_encodings', 'train_labels': 'train_labels', \n",
    "          'test_encodings': 'test_encodings', 'test_labels': 'test_labels'}),\n",
    "        (DatasetCreator(batch_size=batch_size), \n",
    "         ['train_encodings', 'train_labels', 'test_encodings', 'test_labels'], \n",
    "         {'train_loader': 'train_loader', 'test_loader': 'test_loader'})\n",
    "    ])\n",
    "    \n",
    "    # Ejecutar el pipeline\n",
    "    result = ppl()\n",
    "    train_loader = result['train_loader']\n",
    "    test_loader = result['test_loader']\n",
    "    \n",
    "    # Configurar el modelo (reiniciarlo en cada repetición)\n",
    "    model = BertForSequenceClassification.from_pretrained('DeepPavlov/rubert-base-cased', num_labels=2)\n",
    "    model.to(device)\n",
    "    optimizer = AdamW(model.parameters(), lr=2e-5)\n",
    "    loss_fn = torch.nn.CrossEntropyLoss()\n",
    "    \n",
    "    # Entrenar el modelo (función train_model definida por ti)\n",
    "    train_model(model, train_loader, optimizer, loss_fn, device, epochs=epochs)\n",
    "    \n",
    "    # Evaluar el modelo (función evaluate_model definida por ti)\n",
    "    results = evaluate_model(model, test_loader, device)\n",
    "    accuracy = results['accuracy']  # Ajusta según la métrica que uses\n",
    "    accuracies.append(accuracy)\n",
    "    \n",
    "    print(f\"Accuracy in {seed} seed: {accuracy:.4f}\")\n",
    "\n",
    "# Calcular promedio y desviación estándar\n",
    "average_accuracy = np.mean(accuracies)\n",
    "std_accuracy = np.std(accuracies)\n",
    "print(f\"\\nAccuracy promedio después de {num_repeats} repeticiones: {average_accuracy:.4f} ± {std_accuracy:.4f}\")\n"
   ]
  }
 ],
 "metadata": {
  "kernelspec": {
   "display_name": "Mi Entorno (Python 3.9)",
   "language": "python",
   "name": "mi_entorno"
  },
  "language_info": {
   "codemirror_mode": {
    "name": "ipython",
    "version": 3
   },
   "file_extension": ".py",
   "mimetype": "text/x-python",
   "name": "python",
   "nbconvert_exporter": "python",
   "pygments_lexer": "ipython3",
   "version": "3.8.13"
  }
 },
 "nbformat": 4,
 "nbformat_minor": 5
}
