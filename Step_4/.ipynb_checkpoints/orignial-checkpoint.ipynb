{
 "cells": [
  {
   "cell_type": "code",
   "execution_count": null,
   "id": "d94463c7",
   "metadata": {},
   "outputs": [],
   "source": [
    "\n"
   ]
  },
  {
   "cell_type": "code",
   "execution_count": 3,
   "id": "f63a1c40",
   "metadata": {},
   "outputs": [
    {
     "name": "stdout",
     "output_type": "stream",
     "text": [
      "Texto original: Este es un ejemplo de texto. Tiene dos oraciones.\n",
      "Tokens: [<isanlp.annotation.Token object at 0x7fe8533eb670>, <isanlp.annotation.Token object at 0x7fe8533eb1f0>, <isanlp.annotation.Token object at 0x7fe8533eb700>, <isanlp.annotation.Token object at 0x7fe9593895e0>, <isanlp.annotation.Token object at 0x7fe9593890d0>, <isanlp.annotation.Token object at 0x7fe9593891f0>, <isanlp.annotation.Token object at 0x7fe959389220>, <isanlp.annotation.Token object at 0x7fe9593890a0>, <isanlp.annotation.Token object at 0x7fe9593891c0>, <isanlp.annotation.Token object at 0x7fe959389340>, <isanlp.annotation.Token object at 0x7fe8533ebf10>]\n",
      "Sentencias: [<isanlp.annotation.Sentence object at 0x7fe8533ebf70>, <isanlp.annotation.Sentence object at 0x7fe8533eb280>]\n",
      "<0, 4>\n",
      "<5, 7>\n",
      "<8, 10>\n",
      "<11, 18>\n",
      "<19, 21>\n",
      "<22, 27>\n",
      "<27, 28>\n",
      "<29, 34>\n",
      "<35, 38>\n",
      "<39, 48>\n",
      "<48, 49>\n",
      "[<isanlp.annotation.Token object at 0x7fe8533eb670>, <isanlp.annotation.Token object at 0x7fe8533eb1f0>, <isanlp.annotation.Token object at 0x7fe8533eb700>, <isanlp.annotation.Token object at 0x7fe9593895e0>, <isanlp.annotation.Token object at 0x7fe9593890d0>, <isanlp.annotation.Token object at 0x7fe9593891f0>, <isanlp.annotation.Token object at 0x7fe959389220>]\n",
      "[<isanlp.annotation.Token object at 0x7fe9593890a0>, <isanlp.annotation.Token object at 0x7fe9593891c0>, <isanlp.annotation.Token object at 0x7fe959389340>, <isanlp.annotation.Token object at 0x7fe8533ebf10>]\n"
     ]
    }
   ],
   "source": [
    "from isanlp import PipelineCommon\n",
    "from isanlp.simple_text_preprocessor import SimpleTextPreprocessor\n",
    "from isanlp.processor_razdel import ProcessorRazdel\n",
    "\n",
    "ppl = PipelineCommon([\n",
    "    (SimpleTextPreprocessor(), ['text'], {'text': 'text'}),\n",
    "    (ProcessorRazdel(), ['text'], {'tokens': 'tokens', 'sentences': 'sentences'}),\n",
    "])\n",
    "\n",
    "texto_a_procesar = \"Este es un ejemplo de texto. Tiene dos oraciones.\"\n",
    "anotaciones = ppl(texto_a_procesar)\n",
    "\n",
    "print(\"Texto original:\", anotaciones['text'])\n",
    "print(\"Tokens:\", anotaciones['tokens'])\n",
    "print(\"Sentencias:\", anotaciones['sentences'])\n",
    "\n",
    "for token in anotaciones['tokens']:\n",
    "    print(token)\n",
    "\n",
    "for sentence in anotaciones['sentences']:\n",
    "    start = sentence.begin  # Acceder al atributo begin\n",
    "    end = sentence.end    # Acceder al atributo end\n",
    "    print(anotaciones['tokens'][start:end])"
   ]
  },
  {
   "cell_type": "code",
   "execution_count": null,
   "id": "9d23fcc9",
   "metadata": {},
   "outputs": [],
   "source": []
  }
 ],
 "metadata": {
  "kernelspec": {
   "display_name": "Mi Entorno (Python 3.9)",
   "language": "python",
   "name": "mi_entorno"
  },
  "language_info": {
   "codemirror_mode": {
    "name": "ipython",
    "version": 3
   },
   "file_extension": ".py",
   "mimetype": "text/x-python",
   "name": "python",
   "nbconvert_exporter": "python",
   "pygments_lexer": "ipython3",
   "version": "3.8.13"
  }
 },
 "nbformat": 4,
 "nbformat_minor": 5
}
