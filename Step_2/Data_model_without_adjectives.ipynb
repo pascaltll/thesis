{
 "cells": [
  {
   "cell_type": "code",
   "execution_count": 1,
   "id": "3e4e0e6f",
   "metadata": {},
   "outputs": [],
   "source": [
    "import os"
   ]
  },
  {
   "cell_type": "code",
   "execution_count": 2,
   "id": "5d10ace6",
   "metadata": {},
   "outputs": [
    {
     "name": "stdout",
     "output_type": "stream",
     "text": [
      "\u001b[01;34m../dataset/Сокращение по частям речи\u001b[00m\r\n",
      "├── 1.Первый жанр исходная выборка.txt\r\n",
      "├── 2.Первый жанр без клауз, включающих наречия.txt\r\n",
      "├── 3.Первый жанр без клауз, включающих глаголы.txt\r\n",
      "├── 4. Первый жанр без клауз, включающих глаголы и наречия.txt\r\n",
      "├── Без прилагательных второй жанр.txt\r\n",
      "├── Без прилагательных первый жанр.txt\r\n",
      "└── Случайные выборки.txt\r\n",
      "\r\n",
      "0 directories, 7 files\r\n"
     ]
    }
   ],
   "source": [
    "!tree ../dataset/Сокращение\\ по\\ частям\\ речи"
   ]
  },
  {
   "cell_type": "code",
   "execution_count": 3,
   "id": "af40ec3e",
   "metadata": {},
   "outputs": [],
   "source": [
    "from nltk.tokenize import word_tokenize"
   ]
  },
  {
   "cell_type": "code",
   "execution_count": 4,
   "id": "3d127e9e",
   "metadata": {},
   "outputs": [
    {
     "name": "stderr",
     "output_type": "stream",
     "text": [
      "[nltk_data] Downloading package punkt to /root/nltk_data...\n",
      "[nltk_data]   Package punkt is already up-to-date!\n",
      "[nltk_data] Downloading package punkt_tab to /root/nltk_data...\n",
      "[nltk_data]   Package punkt_tab is already up-to-date!\n"
     ]
    },
    {
     "data": {
      "text/plain": [
       "True"
      ]
     },
     "execution_count": 4,
     "metadata": {},
     "output_type": "execute_result"
    }
   ],
   "source": [
    "import nltk\n",
    "\n",
    "nltk.download('punkt')\n",
    "nltk.download('punkt_tab') # Descarga los datos para la correcta tokenización de los idiomas."
   ]
  },
  {
   "cell_type": "code",
   "execution_count": 5,
   "id": "16e5e857",
   "metadata": {},
   "outputs": [],
   "source": [
    "import re\n",
    "#from nltk.util import ngrams\n",
    "from nltk.tokenize import word_tokenize, sent_tokenize\n",
    "\n",
    "def segment_text_with_ngrams(text, n=3):  \n",
    "    \"\"\"Segmenta el texto dividiéndolo en frases, evitando dividir dentro de paréntesis.\"\"\"\n",
    "    \n",
    "    def replace_inside_parentheses(match):\n",
    "        \"\"\"Reemplaza los signos de puntuación dentro de los paréntesis para evitar segmentación incorrecta.\"\"\"\n",
    "        content = match.group(0)\n",
    "        content = content.replace(\".\", \"§\").replace(\"!\", \"§\").replace(\"?\", \"§\")\n",
    "        return content  # Devuelve el contenido modificado\n",
    "    \n",
    "    text = re.sub(r'\\([^()]*\\)', replace_inside_parentheses, text)  # Evita problemas con paréntesis anidados\n",
    "\n",
    "    sentences = sent_tokenize(text, language=\"russian\")  # Segmentar en frases correctamente\n",
    "\n",
    "    segmented_sentences = []\n",
    "    for sentence in sentences:\n",
    "        sentence = sentence.replace(\"§\", \".\")  # Restaurar puntuación dentro de paréntesis\n",
    "        words = word_tokenize(sentence, language=\"russian\")  # Tokenización de palabras\n",
    "        if words:\n",
    "            segmented_sentences.append(\" \".join(words))\n",
    "\n",
    "    return [s.strip() for s in segmented_sentences if s.strip()]\n",
    "\n",
    "def clean_text(text):\n",
    "    \"\"\"Elimina texto entre corchetes y caracteres innecesarios.\"\"\"\n",
    "    cleaned_text = re.sub(r'\\[.*?\\]', '', text)  # Eliminar contenido entre corchetes []\n",
    "    return cleaned_text.strip()\n",
    "\n",
    "def load_texts(filename, label):\n",
    "    with open(filename, \"r\", encoding=\"utf-8\") as f:\n",
    "        text = f.read()\n",
    "    \n",
    "    sentences = segment_text_with_ngrams(text)  \n",
    "    cleaned_sentences = [clean_text(sentence) for sentence in sentences]\n",
    "    \n",
    "    return [{\"text\": sentence, \"label\": label} for sentence in cleaned_sentences if sentence]"
   ]
  },
  {
   "cell_type": "code",
   "execution_count": 6,
   "id": "e78317f2",
   "metadata": {},
   "outputs": [
    {
     "name": "stdout",
     "output_type": "stream",
     "text": [
      "Tamaño del conjunto completo: 880\n",
      "Tamaño del conjunto de entrenamiento: 704\n",
      "Tamaño del conjunto de prueba: 176\n"
     ]
    }
   ],
   "source": [
    "import pandas as pd\n",
    "from sklearn.model_selection import train_test_split\n",
    "\n",
    "# Cargar ambos géneros\n",
    "genre1 = load_texts(\"../dataset/Сокращение по частям речи/Без прилагательных первый жанр.txt\", label=\"0\")\n",
    "genre2 = load_texts(\"../dataset/Сокращение по частям речи/Без прилагательных второй жанр.txt\", label=\"1\")\n",
    "\n",
    "# Combinar ambos géneros en un DataFrame\n",
    "all_texts_df = pd.DataFrame(genre1 + genre2)\n",
    "\n",
    "# Eliminar filas con valores NaN o vacíos en la columna 'text'\n",
    "all_texts_df = all_texts_df[all_texts_df['text'].notna()]\n",
    "all_texts_df = all_texts_df[all_texts_df['text'] != '']\n",
    "\n",
    "# Dividir nuevamente en train, validation y test\n",
    "train_df, test_df = train_test_split(all_texts_df, test_size=0.2, random_state=42, stratify=all_texts_df['label'])\n",
    "\n",
    "# Guardar los conjuntos limpios\n",
    "all_texts_df.to_csv(\"data_without_adjectives.csv\",index=False)\n",
    "train_df.to_csv(\"train_without_adjectives.csv\", index=False)\n",
    "test_df.to_csv(\"test_without_adjectives.csv\", index=False)\n",
    "\n",
    "print(f\"Tamaño del conjunto completo: {len(all_texts_df)}\")\n",
    "print(f\"Tamaño del conjunto de entrenamiento: {len(train_df)}\")\n",
    "print(f\"Tamaño del conjunto de prueba: {len(test_df)}\")"
   ]
  },
  {
   "cell_type": "code",
   "execution_count": 7,
   "id": "277034b6",
   "metadata": {},
   "outputs": [
    {
     "name": "stdout",
     "output_type": "stream",
     "text": [
      "Datos completos:\n",
      "                                                text  label\n",
      "0                                  Кустарник Ветви .      0\n",
      "1  побеги при сушке Почки со слегка уплощенным но...      0\n",
      "2           Прилистники , по краю , Черешки сверху .      0\n",
      "3  Листья , в основании с зубцами или почти , сле...      0\n",
      "4             побеги с 2-6 листьями ; оси соцветий .      0 880\n",
      "\n",
      "Conjunto de entrenamiento:\n",
      "                                                text  label\n",
      "0                                          Щетинки .      0\n",
      "1  механизм адаптации целостного растения к услов...      1\n",
      "2           Кисти 3-4.5 см дл. , цветки поникающие .      0\n",
      "3  ориентировка : Ng = а , Nm = b. В свете минера...      0\n",
      "4  Листья на черешках 2-3 см дл. ; с влагалищами ...      0 704\n",
      "\n",
      "Conjunto de prueba:\n",
      "                                                text  label\n",
      "0      спайность наблюдается в направлении ( 001 ) .      0\n",
      "1  Метатарзус лапок сужен в основании , его ширин...      0\n",
      "2  побеги при сушке Почки со слегка уплощенным но...      0\n",
      "3                                         Описание .      0\n",
      "4  Воплощение смысла в значениях – это глубоко , ...      1 176\n"
     ]
    }
   ],
   "source": [
    "import pandas as pd\n",
    "\n",
    "# Cargar los datos desde los archivos CSV\n",
    "all_texts_df = pd.read_csv(\"data_without_adjectives.csv\")\n",
    "train_df = pd.read_csv(\"train_without_adjectives.csv\")\n",
    "test_df = pd.read_csv(\"test_without_adjectives.csv\")\n",
    "\n",
    "# Mostrar las primeras filas de cada DataFrame\n",
    "print(\"Datos completos:\")\n",
    "print(all_texts_df.head(), len(all_texts_df))\n",
    "\n",
    "print(\"\\nConjunto de entrenamiento:\")\n",
    "print(train_df.head(),len(train_df))\n",
    "\n",
    "print(\"\\nConjunto de prueba:\")\n",
    "print(test_df.head(),len(test_df))\n",
    "\n"
   ]
  },
  {
   "cell_type": "code",
   "execution_count": 8,
   "id": "600ff984",
   "metadata": {},
   "outputs": [],
   "source": [
    "# Cargar los conjuntos de datos\n",
    "train_df = pd.read_csv('train_without_adjectives.csv')\n",
    "test_df = pd.read_csv('../Step_1/data.csv')"
   ]
  },
  {
   "cell_type": "code",
   "execution_count": 9,
   "id": "daad6136",
   "metadata": {},
   "outputs": [],
   "source": [
    "from nltk.util import ngrams\n",
    "from nltk import word_tokenize\n",
    "\n",
    "# Función para generar ngramas\n",
    "def generate_ngrams(text, n=3):\n",
    "    tokens = word_tokenize(text.lower())  # Convertir el texto a minúsculas y tokenizar\n",
    "    return set(ngrams(tokens, n))  # Generar ngramas y devolverlos como un conjunto\n",
    "\n",
    "# Comparar ngramas entre conjuntos\n",
    "def find_similar_samples(train_texts, test_texts, n=3):\n",
    "    similar_indices = []\n",
    "    # Generar ngramas para train y val\n",
    "    train_ngrams = [generate_ngrams(text, n) for text in train_texts]    \n",
    "    # Comparar con los textos de test\n",
    "    for i, test_text in enumerate(test_texts):\n",
    "        test_ngrams = generate_ngrams(test_text, n)\n",
    "        \n",
    "        for train_ngram in train_ngrams:\n",
    "            if test_ngrams & train_ngram:  # Verificar si hay intersección\n",
    "                similar_indices.append(i)\n",
    "                break\n",
    "    \n",
    "    return similar_indices\n"
   ]
  },
  {
   "cell_type": "code",
   "execution_count": 10,
   "id": "75b1f977",
   "metadata": {},
   "outputs": [],
   "source": [
    "train_texts = train_df['text'].astype(str).tolist()\n",
    "test_texts = test_df['text'].astype(str).tolist()\n",
    "\n",
    "similar_indices = find_similar_samples(train_texts, test_texts, n=3)\n",
    "test_df = test_df.drop(similar_indices)\n"
   ]
  },
  {
   "cell_type": "code",
   "execution_count": 11,
   "id": "7cfca903",
   "metadata": {},
   "outputs": [],
   "source": [
    "#train_df.to_csv(\"train_without_adjectives.csv\", index=False)\n",
    "#val_df.to_csv(\"val_without_adjectives.csv\", index=False)\n",
    "test_df.to_csv(\"test_orginal.csv\", index=False)"
   ]
  },
  {
   "cell_type": "code",
   "execution_count": 12,
   "id": "0b80c6a3",
   "metadata": {},
   "outputs": [
    {
     "name": "stdout",
     "output_type": "stream",
     "text": [
      "Tamaño del conjunto de entrenamiento: 704\n",
      "Tamaño del conjunto de prueba(original): 193\n"
     ]
    }
   ],
   "source": [
    "print(f\"Tamaño del conjunto de entrenamiento: {len(train_df)}\")\n",
    "print(f\"Tamaño del conjunto de prueba(original): {len(test_df)}\")"
   ]
  },
  {
   "cell_type": "code",
   "execution_count": null,
   "id": "f8a6c589",
   "metadata": {},
   "outputs": [],
   "source": []
  }
 ],
 "metadata": {
  "kernelspec": {
   "display_name": "Mi Entorno (Python 3.9)",
   "language": "python",
   "name": "mi_entorno"
  },
  "language_info": {
   "codemirror_mode": {
    "name": "ipython",
    "version": 3
   },
   "file_extension": ".py",
   "mimetype": "text/x-python",
   "name": "python",
   "nbconvert_exporter": "python",
   "pygments_lexer": "ipython3",
   "version": "3.8.13"
  }
 },
 "nbformat": 4,
 "nbformat_minor": 5
}
