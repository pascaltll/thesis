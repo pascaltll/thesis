{
 "cells": [
  {
   "cell_type": "code",
   "execution_count": 1,
   "id": "3e4e0e6f",
   "metadata": {},
   "outputs": [],
   "source": [
    "import os"
   ]
  },
  {
   "cell_type": "code",
   "execution_count": 2,
   "id": "5d10ace6",
   "metadata": {},
   "outputs": [
    {
     "name": "stdout",
     "output_type": "stream",
     "text": [
      "\u001b[01;34m../dataset/Сокращение по частям речи\u001b[00m\r\n",
      "├── 1.Первый жанр исходная выборка.txt\r\n",
      "├── 2.Первый жанр без клауз, включающих наречия.txt\r\n",
      "├── 3.Первый жанр без клауз, включающих глаголы.txt\r\n",
      "├── 4. Первый жанр без клауз, включающих глаголы и наречия.txt\r\n",
      "├── Без прилагательных второй жанр.txt\r\n",
      "├── Без прилагательных первый жанр.txt\r\n",
      "└── Случайные выборки.txt\r\n",
      "\r\n",
      "0 directories, 7 files\r\n"
     ]
    }
   ],
   "source": [
    "!tree ../dataset/Сокращение\\ по\\ частям\\ речи"
   ]
  },
  {
   "cell_type": "code",
   "execution_count": 3,
   "id": "33605757",
   "metadata": {},
   "outputs": [],
   "source": [
    "import re\n",
    "def clean_text(text):\n",
    "    cleaned_text = re.sub(r'\\[.*?\\].*', '', text)\n",
    "    return cleaned_text"
   ]
  },
  {
   "cell_type": "code",
   "execution_count": 4,
   "id": "0df6cec1",
   "metadata": {},
   "outputs": [],
   "source": [
    "\n",
    "def segment_text_manually(text):\n",
    "    # Expresión regular para dividir en oraciones, incluyendo puntos, signos de interrogación y exclamación\n",
    "    sentences = re.split(r'(?<!\\d)[.?!]\\s*|\\n', text)\n",
    "    return [sentence.strip() for sentence in sentences if sentence.strip()]"
   ]
  },
  {
   "cell_type": "code",
   "execution_count": 5,
   "id": "3342d290",
   "metadata": {},
   "outputs": [],
   "source": [
    "def load_texts(filename, label):\n",
    "    with open(filename, \"r\", encoding=\"utf-8\") as f:\n",
    "        text = f.read()\n",
    "    sentences = segment_text_manually(text)\n",
    "    cleaned_sentences = [clean_text(sentence) for sentence in sentences]\n",
    "\n",
    "    return [{\"text\": sentence, \"label\": label} for sentence in cleaned_sentences if sentence]  "
   ]
  },
  {
   "cell_type": "code",
   "execution_count": 7,
   "id": "ff7dbc7f",
   "metadata": {},
   "outputs": [
    {
     "name": "stdout",
     "output_type": "stream",
     "text": [
      "Tamaño del conjunto completo: 1106\n",
      "Tamaño del conjunto de entrenamiento: 707\n",
      "Tamaño del conjunto de validación: 177\n",
      "Tamaño del conjunto de prueba: 222\n"
     ]
    }
   ],
   "source": [
    "import pandas as pd\n",
    "from sklearn.model_selection import train_test_split\n",
    "\n",
    "# Cargar ambos géneros\n",
    "genre1 = load_texts(\"../dataset/Сокращение по частям речи/Без прилагательных первый жанр.txt\", label=\"0\")\n",
    "genre2 = load_texts(\"../dataset/Сокращение по частям речи/Без прилагательных второй жанр.txt\", label=\"1\")\n",
    "\n",
    "# Combinar ambos géneros en un DataFrame\n",
    "all_texts_df = pd.DataFrame(genre1 + genre2)\n",
    "\n",
    "# Eliminar filas con valores NaN o vacíos en la columna 'text'\n",
    "all_texts_df = all_texts_df[all_texts_df['text'].notna()]\n",
    "all_texts_df = all_texts_df[all_texts_df['text'] != '']\n",
    "\n",
    "# Dividir nuevamente en train, validation y test\n",
    "train_df, test_df = train_test_split(all_texts_df, test_size=0.2, random_state=42, stratify=all_texts_df['label'])\n",
    "train_df, val_df = train_test_split(train_df, test_size=0.2, random_state=42, stratify=train_df['label'])\n",
    "\n",
    "# Guardar los conjuntos limpios\n",
    "all_texts_df.to_csv(\"data_without_adjectives.csv\",index=False)\n",
    "train_df.to_csv(\"train_without_adjectives.csv\", index=False)\n",
    "val_df.to_csv(\"val_without_adjectives.csv\", index=False)\n",
    "test_df.to_csv(\"test_without_adjectives.csv\", index=False)\n",
    "\n",
    "print(f\"Tamaño del conjunto completo: {len(all_texts_df)}\")\n",
    "print(f\"Tamaño del conjunto de entrenamiento: {len(train_df)}\")\n",
    "print(f\"Tamaño del conjunto de validación: {len(val_df)}\")\n",
    "print(f\"Tamaño del conjunto de prueba: {len(test_df)}\")"
   ]
  },
  {
   "cell_type": "code",
   "execution_count": null,
   "id": "495b9f58",
   "metadata": {},
   "outputs": [],
   "source": []
  }
 ],
 "metadata": {
  "kernelspec": {
   "display_name": "Mi Entorno (Python 3.9)",
   "language": "python",
   "name": "mi_entorno"
  },
  "language_info": {
   "codemirror_mode": {
    "name": "ipython",
    "version": 3
   },
   "file_extension": ".py",
   "mimetype": "text/x-python",
   "name": "python",
   "nbconvert_exporter": "python",
   "pygments_lexer": "ipython3",
   "version": "3.8.13"
  }
 },
 "nbformat": 4,
 "nbformat_minor": 5
}
